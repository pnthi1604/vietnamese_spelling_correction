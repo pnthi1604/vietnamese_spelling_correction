{
 "cells": [
  {
   "cell_type": "code",
   "execution_count": 1,
   "id": "9ee9a28c",
   "metadata": {
    "_cell_guid": "b1076dfc-b9ad-4769-8c92-a6c4dae69d19",
    "_uuid": "8f2839f25d086af736a60e9eeb907d3b93b6e0e5",
    "execution": {
     "iopub.execute_input": "2024-04-10T15:52:20.490130Z",
     "iopub.status.busy": "2024-04-10T15:52:20.489865Z",
     "iopub.status.idle": "2024-04-10T15:53:41.500810Z",
     "shell.execute_reply": "2024-04-10T15:53:41.499679Z"
    },
    "papermill": {
     "duration": 81.017113,
     "end_time": "2024-04-10T15:53:41.503423",
     "exception": false,
     "start_time": "2024-04-10T15:52:20.486310",
     "status": "completed"
    },
    "tags": []
   },
   "outputs": [
    {
     "name": "stdout",
     "output_type": "stream",
     "text": [
      "Cloning into 'vietnamese_spelling_correction'...\r\n",
      "remote: Enumerating objects: 424, done.\u001b[K\r\n",
      "remote: Counting objects: 100% (144/144), done.\u001b[K\r\n",
      "remote: Compressing objects: 100% (95/95), done.\u001b[K\r\n",
      "remote: Total 424 (delta 91), reused 98 (delta 47), pack-reused 280\u001b[K\r\n",
      "Receiving objects: 100% (424/424), 35.33 MiB | 20.57 MiB/s, done.\r\n",
      "Resolving deltas: 100% (210/210), done.\r\n",
      "Collecting underthesea\r\n",
      "  Downloading underthesea-6.8.0-py3-none-any.whl.metadata (14 kB)\r\n",
      "Requirement already satisfied: Click>=6.0 in /opt/conda/lib/python3.10/site-packages (from underthesea) (8.1.7)\r\n",
      "Collecting python-crfsuite>=0.9.6 (from underthesea)\r\n",
      "  Downloading python_crfsuite-0.9.10-cp310-cp310-manylinux_2_17_x86_64.manylinux2014_x86_64.whl.metadata (4.2 kB)\r\n",
      "Requirement already satisfied: nltk in /opt/conda/lib/python3.10/site-packages (from underthesea) (3.2.4)\r\n",
      "Requirement already satisfied: tqdm in /opt/conda/lib/python3.10/site-packages (from underthesea) (4.66.1)\r\n",
      "Requirement already satisfied: requests in /opt/conda/lib/python3.10/site-packages (from underthesea) (2.31.0)\r\n",
      "Requirement already satisfied: joblib in /opt/conda/lib/python3.10/site-packages (from underthesea) (1.3.2)\r\n",
      "Requirement already satisfied: scikit-learn in /opt/conda/lib/python3.10/site-packages (from underthesea) (1.2.2)\r\n",
      "Requirement already satisfied: PyYAML in /opt/conda/lib/python3.10/site-packages (from underthesea) (6.0.1)\r\n",
      "Collecting underthesea-core==1.0.4 (from underthesea)\r\n",
      "  Downloading underthesea_core-1.0.4-cp310-cp310-manylinux2010_x86_64.whl.metadata (1.7 kB)\r\n",
      "Requirement already satisfied: six in /opt/conda/lib/python3.10/site-packages (from nltk->underthesea) (1.16.0)\r\n",
      "Requirement already satisfied: charset-normalizer<4,>=2 in /opt/conda/lib/python3.10/site-packages (from requests->underthesea) (3.3.2)\r\n",
      "Requirement already satisfied: idna<4,>=2.5 in /opt/conda/lib/python3.10/site-packages (from requests->underthesea) (3.6)\r\n",
      "Requirement already satisfied: urllib3<3,>=1.21.1 in /opt/conda/lib/python3.10/site-packages (from requests->underthesea) (1.26.18)\r\n",
      "Requirement already satisfied: certifi>=2017.4.17 in /opt/conda/lib/python3.10/site-packages (from requests->underthesea) (2024.2.2)\r\n",
      "Requirement already satisfied: numpy>=1.17.3 in /opt/conda/lib/python3.10/site-packages (from scikit-learn->underthesea) (1.26.4)\r\n",
      "Requirement already satisfied: scipy>=1.3.2 in /opt/conda/lib/python3.10/site-packages (from scikit-learn->underthesea) (1.11.4)\r\n",
      "Requirement already satisfied: threadpoolctl>=2.0.0 in /opt/conda/lib/python3.10/site-packages (from scikit-learn->underthesea) (3.2.0)\r\n",
      "Downloading underthesea-6.8.0-py3-none-any.whl (20.9 MB)\r\n",
      "\u001b[2K   \u001b[90m━━━━━━━━━━━━━━━━━━━━━━━━━━━━━━━━━━━━━━━━\u001b[0m \u001b[32m20.9/20.9 MB\u001b[0m \u001b[31m72.5 MB/s\u001b[0m eta \u001b[36m0:00:00\u001b[0m\r\n",
      "\u001b[?25hDownloading underthesea_core-1.0.4-cp310-cp310-manylinux2010_x86_64.whl (657 kB)\r\n",
      "\u001b[2K   \u001b[90m━━━━━━━━━━━━━━━━━━━━━━━━━━━━━━━━━━━━━━━━\u001b[0m \u001b[32m657.8/657.8 kB\u001b[0m \u001b[31m41.7 MB/s\u001b[0m eta \u001b[36m0:00:00\u001b[0m\r\n",
      "\u001b[?25hDownloading python_crfsuite-0.9.10-cp310-cp310-manylinux_2_17_x86_64.manylinux2014_x86_64.whl (1.1 MB)\r\n",
      "\u001b[2K   \u001b[90m━━━━━━━━━━━━━━━━━━━━━━━━━━━━━━━━━━━━━━━━\u001b[0m \u001b[32m1.1/1.1 MB\u001b[0m \u001b[31m46.1 MB/s\u001b[0m eta \u001b[36m0:00:00\u001b[0m\r\n",
      "\u001b[?25hInstalling collected packages: underthesea-core, python-crfsuite, underthesea\r\n",
      "Successfully installed python-crfsuite-0.9.10 underthesea-6.8.0 underthesea-core-1.0.4\r\n",
      "Collecting pyvi\r\n",
      "  Downloading pyvi-0.1.1-py2.py3-none-any.whl.metadata (2.5 kB)\r\n",
      "Requirement already satisfied: scikit-learn in /opt/conda/lib/python3.10/site-packages (from pyvi) (1.2.2)\r\n",
      "Collecting sklearn-crfsuite (from pyvi)\r\n",
      "  Downloading sklearn_crfsuite-0.3.6-py2.py3-none-any.whl.metadata (3.8 kB)\r\n",
      "Requirement already satisfied: numpy>=1.17.3 in /opt/conda/lib/python3.10/site-packages (from scikit-learn->pyvi) (1.26.4)\r\n",
      "Requirement already satisfied: scipy>=1.3.2 in /opt/conda/lib/python3.10/site-packages (from scikit-learn->pyvi) (1.11.4)\r\n",
      "Requirement already satisfied: joblib>=1.1.1 in /opt/conda/lib/python3.10/site-packages (from scikit-learn->pyvi) (1.3.2)\r\n",
      "Requirement already satisfied: threadpoolctl>=2.0.0 in /opt/conda/lib/python3.10/site-packages (from scikit-learn->pyvi) (3.2.0)\r\n",
      "Requirement already satisfied: python-crfsuite>=0.8.3 in /opt/conda/lib/python3.10/site-packages (from sklearn-crfsuite->pyvi) (0.9.10)\r\n",
      "Requirement already satisfied: six in /opt/conda/lib/python3.10/site-packages (from sklearn-crfsuite->pyvi) (1.16.0)\r\n",
      "Requirement already satisfied: tabulate in /opt/conda/lib/python3.10/site-packages (from sklearn-crfsuite->pyvi) (0.9.0)\r\n",
      "Requirement already satisfied: tqdm>=2.0 in /opt/conda/lib/python3.10/site-packages (from sklearn-crfsuite->pyvi) (4.66.1)\r\n",
      "Downloading pyvi-0.1.1-py2.py3-none-any.whl (8.5 MB)\r\n",
      "\u001b[2K   \u001b[90m━━━━━━━━━━━━━━━━━━━━━━━━━━━━━━━━━━━━━━━━\u001b[0m \u001b[32m8.5/8.5 MB\u001b[0m \u001b[31m61.4 MB/s\u001b[0m eta \u001b[36m0:00:00\u001b[0m\r\n",
      "\u001b[?25hDownloading sklearn_crfsuite-0.3.6-py2.py3-none-any.whl (12 kB)\r\n",
      "Installing collected packages: sklearn-crfsuite, pyvi\r\n",
      "Successfully installed pyvi-0.1.1 sklearn-crfsuite-0.3.6\r\n",
      "Requirement already satisfied: datasets in /opt/conda/lib/python3.10/site-packages (2.1.0)\r\n",
      "Requirement already satisfied: numpy>=1.17 in /opt/conda/lib/python3.10/site-packages (from datasets) (1.26.4)\r\n",
      "Requirement already satisfied: pyarrow>=5.0.0 in /opt/conda/lib/python3.10/site-packages (from datasets) (11.0.0)\r\n",
      "Requirement already satisfied: dill in /opt/conda/lib/python3.10/site-packages (from datasets) (0.3.8)\r\n",
      "Requirement already satisfied: pandas in /opt/conda/lib/python3.10/site-packages (from datasets) (2.1.4)\r\n",
      "Requirement already satisfied: requests>=2.19.0 in /opt/conda/lib/python3.10/site-packages (from datasets) (2.31.0)\r\n",
      "Requirement already satisfied: tqdm>=4.62.1 in /opt/conda/lib/python3.10/site-packages (from datasets) (4.66.1)\r\n",
      "Requirement already satisfied: xxhash in /opt/conda/lib/python3.10/site-packages (from datasets) (3.4.1)\r\n",
      "Requirement already satisfied: multiprocess in /opt/conda/lib/python3.10/site-packages (from datasets) (0.70.16)\r\n",
      "Requirement already satisfied: fsspec>=2021.05.0 in /opt/conda/lib/python3.10/site-packages (from fsspec[http]>=2021.05.0->datasets) (2024.3.0)\r\n",
      "Requirement already satisfied: aiohttp in /opt/conda/lib/python3.10/site-packages (from datasets) (3.9.1)\r\n",
      "Requirement already satisfied: huggingface-hub<1.0.0,>=0.1.0 in /opt/conda/lib/python3.10/site-packages (from datasets) (0.21.4)\r\n",
      "Requirement already satisfied: packaging in /opt/conda/lib/python3.10/site-packages (from datasets) (21.3)\r\n",
      "Requirement already satisfied: responses<0.19 in /opt/conda/lib/python3.10/site-packages (from datasets) (0.18.0)\r\n",
      "Requirement already satisfied: attrs>=17.3.0 in /opt/conda/lib/python3.10/site-packages (from aiohttp->datasets) (23.2.0)\r\n",
      "Requirement already satisfied: multidict<7.0,>=4.5 in /opt/conda/lib/python3.10/site-packages (from aiohttp->datasets) (6.0.4)\r\n",
      "Requirement already satisfied: yarl<2.0,>=1.0 in /opt/conda/lib/python3.10/site-packages (from aiohttp->datasets) (1.9.3)\r\n",
      "Requirement already satisfied: frozenlist>=1.1.1 in /opt/conda/lib/python3.10/site-packages (from aiohttp->datasets) (1.4.1)\r\n",
      "Requirement already satisfied: aiosignal>=1.1.2 in /opt/conda/lib/python3.10/site-packages (from aiohttp->datasets) (1.3.1)\r\n",
      "Requirement already satisfied: async-timeout<5.0,>=4.0 in /opt/conda/lib/python3.10/site-packages (from aiohttp->datasets) (4.0.3)\r\n",
      "Requirement already satisfied: filelock in /opt/conda/lib/python3.10/site-packages (from huggingface-hub<1.0.0,>=0.1.0->datasets) (3.13.1)\r\n",
      "Requirement already satisfied: pyyaml>=5.1 in /opt/conda/lib/python3.10/site-packages (from huggingface-hub<1.0.0,>=0.1.0->datasets) (6.0.1)\r\n",
      "Requirement already satisfied: typing-extensions>=3.7.4.3 in /opt/conda/lib/python3.10/site-packages (from huggingface-hub<1.0.0,>=0.1.0->datasets) (4.9.0)\r\n",
      "Requirement already satisfied: pyparsing!=3.0.5,>=2.0.2 in /opt/conda/lib/python3.10/site-packages (from packaging->datasets) (3.1.1)\r\n",
      "Requirement already satisfied: charset-normalizer<4,>=2 in /opt/conda/lib/python3.10/site-packages (from requests>=2.19.0->datasets) (3.3.2)\r\n",
      "Requirement already satisfied: idna<4,>=2.5 in /opt/conda/lib/python3.10/site-packages (from requests>=2.19.0->datasets) (3.6)\r\n",
      "Requirement already satisfied: urllib3<3,>=1.21.1 in /opt/conda/lib/python3.10/site-packages (from requests>=2.19.0->datasets) (1.26.18)\r\n",
      "Requirement already satisfied: certifi>=2017.4.17 in /opt/conda/lib/python3.10/site-packages (from requests>=2.19.0->datasets) (2024.2.2)\r\n",
      "Requirement already satisfied: python-dateutil>=2.8.2 in /opt/conda/lib/python3.10/site-packages (from pandas->datasets) (2.9.0.post0)\r\n",
      "Requirement already satisfied: pytz>=2020.1 in /opt/conda/lib/python3.10/site-packages (from pandas->datasets) (2023.3.post1)\r\n",
      "Requirement already satisfied: tzdata>=2022.1 in /opt/conda/lib/python3.10/site-packages (from pandas->datasets) (2023.4)\r\n",
      "Requirement already satisfied: six>=1.5 in /opt/conda/lib/python3.10/site-packages (from python-dateutil>=2.8.2->pandas->datasets) (1.16.0)\r\n",
      "Requirement already satisfied: torchtext in /opt/conda/lib/python3.10/site-packages (0.16.2)\r\n",
      "Requirement already satisfied: tqdm in /opt/conda/lib/python3.10/site-packages (from torchtext) (4.66.1)\r\n",
      "Requirement already satisfied: requests in /opt/conda/lib/python3.10/site-packages (from torchtext) (2.31.0)\r\n",
      "Requirement already satisfied: torch in /opt/conda/lib/python3.10/site-packages (from torchtext) (2.1.2)\r\n",
      "Requirement already satisfied: numpy in /opt/conda/lib/python3.10/site-packages (from torchtext) (1.26.4)\r\n",
      "Requirement already satisfied: torchdata in /opt/conda/lib/python3.10/site-packages (from torchtext) (0.7.1)\r\n",
      "Requirement already satisfied: charset-normalizer<4,>=2 in /opt/conda/lib/python3.10/site-packages (from requests->torchtext) (3.3.2)\r\n",
      "Requirement already satisfied: idna<4,>=2.5 in /opt/conda/lib/python3.10/site-packages (from requests->torchtext) (3.6)\r\n",
      "Requirement already satisfied: urllib3<3,>=1.21.1 in /opt/conda/lib/python3.10/site-packages (from requests->torchtext) (1.26.18)\r\n",
      "Requirement already satisfied: certifi>=2017.4.17 in /opt/conda/lib/python3.10/site-packages (from requests->torchtext) (2024.2.2)\r\n",
      "Requirement already satisfied: filelock in /opt/conda/lib/python3.10/site-packages (from torch->torchtext) (3.13.1)\r\n",
      "Requirement already satisfied: typing-extensions in /opt/conda/lib/python3.10/site-packages (from torch->torchtext) (4.9.0)\r\n",
      "Requirement already satisfied: sympy in /opt/conda/lib/python3.10/site-packages (from torch->torchtext) (1.12)\r\n",
      "Requirement already satisfied: networkx in /opt/conda/lib/python3.10/site-packages (from torch->torchtext) (3.2.1)\r\n",
      "Requirement already satisfied: jinja2 in /opt/conda/lib/python3.10/site-packages (from torch->torchtext) (3.1.2)\r\n",
      "Requirement already satisfied: fsspec in /opt/conda/lib/python3.10/site-packages (from torch->torchtext) (2024.3.0)\r\n",
      "Requirement already satisfied: MarkupSafe>=2.0 in /opt/conda/lib/python3.10/site-packages (from jinja2->torch->torchtext) (2.1.3)\r\n",
      "Requirement already satisfied: mpmath>=0.19 in /opt/conda/lib/python3.10/site-packages (from sympy->torch->torchtext) (1.3.0)\r\n",
      "Collecting bs4\r\n",
      "  Downloading bs4-0.0.2-py2.py3-none-any.whl.metadata (411 bytes)\r\n",
      "Requirement already satisfied: beautifulsoup4 in /opt/conda/lib/python3.10/site-packages (from bs4) (4.12.2)\r\n",
      "Requirement already satisfied: soupsieve>1.2 in /opt/conda/lib/python3.10/site-packages (from beautifulsoup4->bs4) (2.5)\r\n",
      "Downloading bs4-0.0.2-py2.py3-none-any.whl (1.2 kB)\r\n",
      "Installing collected packages: bs4\r\n",
      "Successfully installed bs4-0.0.2\r\n",
      "Collecting contractions\r\n",
      "  Downloading contractions-0.1.73-py2.py3-none-any.whl.metadata (1.2 kB)\r\n",
      "Collecting textsearch>=0.0.21 (from contractions)\r\n",
      "  Downloading textsearch-0.0.24-py2.py3-none-any.whl.metadata (1.2 kB)\r\n",
      "Collecting anyascii (from textsearch>=0.0.21->contractions)\r\n",
      "  Downloading anyascii-0.3.2-py3-none-any.whl.metadata (1.5 kB)\r\n",
      "Collecting pyahocorasick (from textsearch>=0.0.21->contractions)\r\n",
      "  Downloading pyahocorasick-2.1.0-cp310-cp310-manylinux_2_5_x86_64.manylinux1_x86_64.manylinux_2_12_x86_64.manylinux2010_x86_64.whl.metadata (13 kB)\r\n",
      "Downloading contractions-0.1.73-py2.py3-none-any.whl (8.7 kB)\r\n",
      "Downloading textsearch-0.0.24-py2.py3-none-any.whl (7.6 kB)\r\n",
      "Downloading anyascii-0.3.2-py3-none-any.whl (289 kB)\r\n",
      "\u001b[2K   \u001b[90m━━━━━━━━━━━━━━━━━━━━━━━━━━━━━━━━━━━━━━━━\u001b[0m \u001b[32m289.9/289.9 kB\u001b[0m \u001b[31m13.0 MB/s\u001b[0m eta \u001b[36m0:00:00\u001b[0m\r\n",
      "\u001b[?25hDownloading pyahocorasick-2.1.0-cp310-cp310-manylinux_2_5_x86_64.manylinux1_x86_64.manylinux_2_12_x86_64.manylinux2010_x86_64.whl (110 kB)\r\n",
      "\u001b[2K   \u001b[90m━━━━━━━━━━━━━━━━━━━━━━━━━━━━━━━━━━━━━━━━\u001b[0m \u001b[32m110.7/110.7 kB\u001b[0m \u001b[31m8.4 MB/s\u001b[0m eta \u001b[36m0:00:00\u001b[0m\r\n",
      "\u001b[?25hInstalling collected packages: pyahocorasick, anyascii, textsearch, contractions\r\n",
      "Successfully installed anyascii-0.3.2 contractions-0.1.73 pyahocorasick-2.1.0 textsearch-0.0.24\r\n"
     ]
    }
   ],
   "source": [
    "!git clone https://github.com/pnthi1604/vietnamese_spelling_correction\n",
    "!pip install underthesea\n",
    "!pip install pyvi\n",
    "!pip install datasets\n",
    "!pip install torchtext\n",
    "!pip install bs4\n",
    "!pip install contractions"
   ]
  },
  {
   "cell_type": "code",
   "execution_count": 2,
   "id": "b0f9e06d",
   "metadata": {
    "execution": {
     "iopub.execute_input": "2024-04-10T15:53:41.520609Z",
     "iopub.status.busy": "2024-04-10T15:53:41.519835Z",
     "iopub.status.idle": "2024-04-10T15:54:02.757333Z",
     "shell.execute_reply": "2024-04-10T15:54:02.756430Z"
    },
    "papermill": {
     "duration": 21.248044,
     "end_time": "2024-04-10T15:54:02.759333",
     "exception": false,
     "start_time": "2024-04-10T15:53:41.511289",
     "status": "completed"
    },
    "tags": []
   },
   "outputs": [
    {
     "name": "stderr",
     "output_type": "stream",
     "text": [
      "2024-04-10 15:53:47.265850: E external/local_xla/xla/stream_executor/cuda/cuda_dnn.cc:9261] Unable to register cuDNN factory: Attempting to register factory for plugin cuDNN when one has already been registered\n",
      "2024-04-10 15:53:47.265950: E external/local_xla/xla/stream_executor/cuda/cuda_fft.cc:607] Unable to register cuFFT factory: Attempting to register factory for plugin cuFFT when one has already been registered\n",
      "2024-04-10 15:53:47.396925: E external/local_xla/xla/stream_executor/cuda/cuda_blas.cc:1515] Unable to register cuBLAS factory: Attempting to register factory for plugin cuBLAS when one has already been registered\n"
     ]
    },
    {
     "data": {
      "text/plain": [
       "{'lang_src': 'noise_vi',\n",
       " 'lang_tgt': 'vi',\n",
       " 'ratio': 0.3,\n",
       " 'sound_char_ratio': 0.3,\n",
       " 'no_accent_char_ratio': 0.2,\n",
       " 'remove_word_ratio': 0.15,\n",
       " 'multi_word_ratio': 0.15,\n",
       " 'face_char_ratio': 0.2,\n",
       " 'num_noise': 3,\n",
       " 'device': 'cuda',\n",
       " 'd_model': 512,\n",
       " 'num_encoder': 6,\n",
       " 'num_decoder': 6,\n",
       " 'nhead': 8,\n",
       " 'd_ff': 2048,\n",
       " 'dropout': 0.15,\n",
       " 'max_len': 100,\n",
       " 'underthesea': True,\n",
       " 'pyvi': False,\n",
       " 'weight_decay': 0,\n",
       " 'lr': 0.5,\n",
       " 'lr_scheduler': True,\n",
       " 'eps': 1e-09,\n",
       " 'betas': (0.9, 0.98),\n",
       " 'lambdalr': True,\n",
       " 'warmup_steps': 4000,\n",
       " 'steplr': False,\n",
       " 'step_size_steplr': 1,\n",
       " 'gamma_steplr': 0.5,\n",
       " 'label_smoothing': 0.1,\n",
       " 'batch_size_train': 32,\n",
       " 'batch_size_validation': 32,\n",
       " 'num_epochs': 5,\n",
       " 'train_size': 0.9,\n",
       " 'num_bleu_validation': 100,\n",
       " 'max_beam': 1,\n",
       " 'beam_test': 3,\n",
       " 'data_test': '/kaggle/input/3-dataset-vn-spelling-correction/dataset.csv',\n",
       " 'f_beta': 0.5,\n",
       " 'tokenizer_file': '/kaggle/input/3-dataset-vn-spelling-correction/tokenizer_{}.json',\n",
       " 'experiment_name': 'results_train',\n",
       " 'save_config': 'config/config_{0}.json',\n",
       " 'model_folder': 'weights',\n",
       " 'model_basename': 'tmodel_',\n",
       " 'data_path': '/kaggle/input/3-dataset-vn-spelling-correction/data',\n",
       " 'map_data_path': '/kaggle/input/3-dataset-vn-spelling-correction/map_data',\n",
       " 'save_config_pattern': 'config/config_*',\n",
       " 'preload': 'latest'}"
      ]
     },
     "execution_count": 2,
     "metadata": {},
     "output_type": "execute_result"
    }
   ],
   "source": [
    "from vietnamese_spelling_correction import config, train, test\n",
    "config = config.get_config()\n",
    "config[\"underthesea\"] = True\n",
    "config[\"lr_scheduler\"] = True\n",
    "config[\"lambdalr\"] = True\n",
    "config[\"num_epochs\"] = 5\n",
    "config[\"lr\"] = 0.5\n",
    "config[\"dropout\"] = 0.15\n",
    "config[\"max_beam\"] = 1\n",
    "config[\"beam_test\"] = 3\n",
    "config[\"data_path\"] = \"/kaggle/input/3-dataset-vn-spelling-correction/data\"\n",
    "config[\"map_data_path\"] = \"/kaggle/input/3-dataset-vn-spelling-correction/map_data\"\n",
    "config[\"tokenizer_file\"] = \"/kaggle/input/3-dataset-vn-spelling-correction/tokenizer_{}.json\"\n",
    "config[\"data_test\"] = \"/kaggle/input/3-dataset-vn-spelling-correction/dataset.csv\"\n",
    "config"
   ]
  },
  {
   "cell_type": "code",
   "execution_count": 3,
   "id": "e990c903",
   "metadata": {
    "execution": {
     "iopub.execute_input": "2024-04-10T15:54:02.776120Z",
     "iopub.status.busy": "2024-04-10T15:54:02.775574Z",
     "iopub.status.idle": "2024-04-10T16:52:26.564947Z",
     "shell.execute_reply": "2024-04-10T16:52:26.563783Z"
    },
    "papermill": {
     "duration": 3503.800092,
     "end_time": "2024-04-10T16:52:26.567268",
     "exception": false,
     "start_time": "2024-04-10T15:54:02.767176",
     "status": "completed"
    },
    "tags": []
   },
   "outputs": [
    {
     "name": "stdout",
     "output_type": "stream",
     "text": [
      "\n",
      "Đã load dataset thành công!\n",
      "\n",
      "src_vocab_size = 18692\n",
      "tgt_vocab_size = 11859\n",
      "\n",
      "Đã load map data thành công!\n",
      "\n",
      "No model to preload, starting from scratch\n",
      "\n",
      "lr = 8.734640537108555e-08\n"
     ]
    },
    {
     "name": "stderr",
     "output_type": "stream",
     "text": [
      "Processing Epoch 00: 100%|██████████| 3660/3660 [09:46<00:00,  6.24it/s, loss=2.713]\n",
      "Validation Loss Epoch 00: 100%|██████████| 407/407 [00:23<00:00, 17.06it/s, loss=1.902]\n",
      "Validation Bleu Epoch 00:  19%|█▉        | 19/100 [00:07<00:31,  2.55it/s]"
     ]
    },
    {
     "name": "stdout",
     "output_type": "stream",
     "text": [
      "\n",
      "    SOURCE: như như vậy chúng tôi đang tiến xa hơn mốc 12 bay giây .\n",
      "    TARGET: như vậy chúng tôi đang tiến xa hơn mốc 12 bay giây .\n",
      " PREDICTED: như vậy chúng tôi đang tiến xa hơn richard 12 bay giây .\n",
      "TOKENS TARGET: [['như', 'vậy', 'chúng', 'tôi', 'đang', 'tiến', 'xa', 'hơn', 'mốc', '12', 'bay', 'giây', '.']]\n",
      "TOKENS PREDICTED: ['như', 'vậy', 'chúng', 'tôi', 'đang', 'tiến', 'xa', 'hơn', 'richard', '12', 'bay', 'giây', '.']\n",
      "BLEU OF SENTENCE 20\n",
      "BLEU_1: 0.9230769276618958\n",
      "BLEU_2: 0.8770580291748047\n",
      "BLEU_3: 0.8239824771881104\n",
      "BLEU_4: 0.7611606121063232\n",
      "label_ids = tensor([  36,   71,   11,    7,   53,  271,  467,   59, 2299,  967,  437,  845,\n",
      "           5], device='cuda:0')\n",
      "pred_ids = tensor([  36,   71,   11,    7,   53,  271,  467,   59, 1934,  967,  437,  845,\n",
      "           5], device='cuda:0')\n"
     ]
    },
    {
     "name": "stderr",
     "output_type": "stream",
     "text": [
      "Validation Bleu Epoch 00:  20%|██        | 20/100 [00:08<00:33,  2.38it/s]"
     ]
    },
    {
     "name": "stdout",
     "output_type": "stream",
     "text": [
      "recall = 0.9230769872665405\n",
      "precision = 0.9230769872665405\n",
      "f_05 = 0.9230769872665405\n"
     ]
    },
    {
     "name": "stderr",
     "output_type": "stream",
     "text": [
      "Validation Bleu Epoch 00:  40%|████      | 40/100 [00:16<00:26,  2.24it/s]"
     ]
    },
    {
     "name": "stdout",
     "output_type": "stream",
     "text": [
      "\n",
      "    SOURCE: lhờ vậy các doanh nghiệp cũng dần thoát khỏi những nợ nần .\n",
      "    TARGET: nhờ vậy các doanh nghiệp cũng dần thoát khỏi những nợ nần .\n",
      " PREDICTED: nhờ vậy các doanh nghiệp cũng dần thoát khỏi những nợ .\n",
      "TOKENS TARGET: [['nhờ', 'vậy', 'các', 'doanh', 'nghiệp', 'cũng', 'dần', 'thoát', 'khỏi', 'những', 'nợ', 'nần', '.']]\n",
      "TOKENS PREDICTED: ['nhờ', 'vậy', 'các', 'doanh', 'nghiệp', 'cũng', 'dần', 'thoát', 'khỏi', 'những', 'nợ', '.']\n",
      "BLEU OF SENTENCE 40\n",
      "BLEU_1: 0.9200444146293233\n",
      "BLEU_2: 0.8772279403393513\n",
      "BLEU_3: 0.8605155599577704\n",
      "BLEU_4: 0.8496363955510045\n",
      "label_ids = tensor([ 767,   71,   21,  597,  347,   82,  710, 1086,  408,   12, 1758, 5266,\n",
      "           5], device='cuda:0')\n",
      "pred_ids = tensor([ 767,   71,   21,  597,  347,   82,  710, 1086,  408,   12, 1758,    5,\n",
      "           1], device='cuda:0')\n",
      "recall = 0.8461538553237915\n",
      "precision = 0.8461538553237915\n",
      "f_05 = 0.8461538553237915\n"
     ]
    },
    {
     "name": "stderr",
     "output_type": "stream",
     "text": [
      "Validation Bleu Epoch 00:  60%|██████    | 60/100 [00:23<00:14,  2.69it/s]"
     ]
    },
    {
     "name": "stdout",
     "output_type": "stream",
     "text": [
      "\n",
      "    SOURCE: tôi đem xe đạp đến tiệm-- tôi thích nó -- xe cu , và anh thợ \" chỉnh sửa \" lại vị trí bánh xe .\n",
      "    TARGET: tôi đem xe đạp đến tiệm-- tôi thích nó -- xe cũ , và anh thợ \" chỉnh sửa \" lại vị trí bánh xe .\n",
      " PREDICTED: tôi đem xe đạp đến iphone -- tôi thích nó -- xe uống , và anh thợ \" chỉnh sửa \" lại vị trí bánh xe .\n",
      "TOKENS TARGET: [['tôi', 'đem', 'xe', 'đạp', 'đến', 'tiệm', '--', 'tôi', 'thích', 'nó', '--', 'xe', 'cũ', ',', 'và', 'anh', 'thợ', '\"', 'chỉnh', 'sửa', '\"', 'lại', 'vị', 'trí', 'bánh', 'xe', '.']]\n",
      "TOKENS PREDICTED: ['tôi', 'đem', 'xe', 'đạp', 'đến', 'iphone', '--', 'tôi', 'thích', 'nó', '--', 'xe', 'uống', ',', 'và', 'anh', 'thợ', '\"', 'chỉnh', 'sửa', '\"', 'lại', 'vị', 'trí', 'bánh', 'xe', '.']\n",
      "BLEU OF SENTENCE 60\n",
      "BLEU_1: 0.9259259104728699\n",
      "BLEU_2: 0.8851416707038879\n",
      "BLEU_3: 0.8412912487983704\n",
      "BLEU_4: 0.7937559485435486\n",
      "label_ids = tensor([   7,  840,  285, 1198,   45, 2196,   75,    7,  196,   26,   75,  285,\n",
      "         975,    4,    6,   89, 1483,   28,  891,  979,   28,   55,  197,  360,\n",
      "         694,  285,    5], device='cuda:0')\n",
      "pred_ids = tensor([   7,  840,  285, 1198,   45, 1896,   75,    7,  196,   26,   75,  285,\n",
      "         972,    4,    6,   89, 1483,   28,  891,  979,   28,   55,  197,  360,\n",
      "         694,  285,    5], device='cuda:0')\n",
      "recall = 0.9259259700775146\n",
      "precision = 0.9259259700775146\n",
      "f_05 = 0.9259259700775146\n"
     ]
    },
    {
     "name": "stderr",
     "output_type": "stream",
     "text": [
      "Validation Bleu Epoch 00:  80%|████████  | 80/100 [00:34<00:10,  1.82it/s]"
     ]
    },
    {
     "name": "stdout",
     "output_type": "stream",
     "text": [
      "\n",
      "    SOURCE: melinda , đây là khi nào và ở đâu vậy ? người đàn ông đẹp trai cạnh trị là ai vậy ?\n",
      "    TARGET: melinda , đây là khi nào và ở đâu vậy ? người đàn ông đẹp trai cạnh chị là ai vậy ?\n",
      " PREDICTED: nên , đây là khi nào và ở đâu vậy ? người đàn ông đẹp trai cạnh trị là ai vậy ?\n",
      "TOKENS TARGET: [['melinda', ',', 'đây', 'là', 'khi', 'nào', 'và', 'ở', 'đâu', 'vậy', '?', 'người', 'đàn', 'ông', 'đẹp', 'trai', 'cạnh', 'chị', 'là', 'ai', 'vậy', '?']]\n",
      "TOKENS PREDICTED: ['nên', ',', 'đây', 'là', 'khi', 'nào', 'và', 'ở', 'đâu', 'vậy', '?', 'người', 'đàn', 'ông', 'đẹp', 'trai', 'cạnh', 'trị', 'là', 'ai', 'vậy', '?']\n",
      "BLEU OF SENTENCE 80\n",
      "BLEU_1: 0.9090909361839294\n",
      "BLEU_2: 0.8827348351478577\n",
      "BLEU_3: 0.8542470932006836\n",
      "BLEU_4: 0.8232490420341492\n",
      "label_ids = tensor([3529,    4,   43,    8,   41,   72,    6,   32,  378,   71,   47,   18,\n",
      "         448,   99,  460,  684,  644,  798,    8,  184,   71,   47],\n",
      "       device='cuda:0')\n",
      "pred_ids = tensor([ 87,   4,  43,   8,  41,  72,   6,  32, 378,  71,  47,  18, 448,  99,\n",
      "        460, 684, 644, 255,   8, 184,  71,  47], device='cuda:0')\n",
      "recall = 0.9090909361839294\n",
      "precision = 0.9090909361839294\n",
      "f_05 = 0.9090909361839294\n"
     ]
    },
    {
     "name": "stderr",
     "output_type": "stream",
     "text": [
      "Validation Bleu Epoch 00: 100%|██████████| 100/100 [00:41<00:00,  2.38it/s]"
     ]
    },
    {
     "name": "stdout",
     "output_type": "stream",
     "text": [
      "\n",
      "    SOURCE: vậy còn các công ty khai khoáng , khí ga ga và dầu mỏ thì sao ?\n",
      "    TARGET: vậy còn các công ty khai khoáng , khí ga và dầu mỏ thì sao ?\n",
      " PREDICTED: vậy còn các công ty khai dầu , khí ra và dầu mỏ thì sao ?\n",
      "TOKENS TARGET: [['vậy', 'còn', 'các', 'công', 'ty', 'khai', 'khoáng', ',', 'khí', 'ga', 'và', 'dầu', 'mỏ', 'thì', 'sao', '?']]\n",
      "TOKENS PREDICTED: ['vậy', 'còn', 'các', 'công', 'ty', 'khai', 'dầu', ',', 'khí', 'ra', 'và', 'dầu', 'mỏ', 'thì', 'sao', '?']\n",
      "BLEU OF SENTENCE 100\n",
      "BLEU_1: 0.875\n",
      "BLEU_2: 0.8010410070419312\n",
      "BLEU_3: 0.7157430648803711\n",
      "BLEU_4: 0.6413865089416504\n",
      "label_ids = tensor([  71,  114,   21,   67,  505,  822, 1993,    4,  400, 1854,    6,  728,\n",
      "        1322,  115,  130,   47], device='cuda:0')\n",
      "pred_ids = tensor([  71,  114,   21,   67,  505,  822,  728,    4,  400,   30,    6,  728,\n",
      "        1322,  115,  130,   47], device='cuda:0')\n",
      "recall = 0.875\n",
      "precision = 0.84375\n",
      "f_05 = 0.8472222089767456\n"
     ]
    },
    {
     "name": "stderr",
     "output_type": "stream",
     "text": [
      "\n"
     ]
    },
    {
     "name": "stdout",
     "output_type": "stream",
     "text": [
      "recall = 0.65382981300354\n",
      "precision = 0.6613881587982178\n",
      "accuracy = 0.65382981300354\n",
      "f_05 = 0.6577893495559692\n"
     ]
    },
    {
     "name": "stderr",
     "output_type": "stream",
     "text": [
      "Validation Bleu Epoch 00:  20%|██        | 20/100 [00:09<00:47,  1.69it/s]"
     ]
    },
    {
     "name": "stdout",
     "output_type": "stream",
     "text": [
      "\n",
      "    SOURCE: cách chúng lam là khi có nhiều con trong khôn gian hẹph , mỗi con tìm kiếm kĩ càng bởi đã cô các con khác ngay bên đang tìm kiếm kiếm , nhưng khi chỉ có ĩt con trên diện rộng , chúng cần giãn để bao được rộng hơn .\n",
      "    TARGET: cách chúng làm là khi có nhiều con trong không gian hẹp , mỗi con tìm kiếm kĩ càng bởi đã có các con khác ngay bên đang tìm kiếm , nhưng khi chỉ có ít con trên diện rộng , chúng cần giãn ra để bao được rộng hơn .\n",
      " PREDICTED: cách chúng làm là khi có nhiều con trong không gian tiến , mỗi con tìm kiếm kĩ càng bởi đã cô các con khác ngay bên đang tìm kiếm , nhưng khi chỉ có thể trên diện rộng , chúng cần động cần để bao được rộng hơn .\n",
      "TOKENS TARGET: [['cách', 'chúng', 'làm', 'là', 'khi', 'có', 'nhiều', 'con', 'trong', 'không', 'gian', 'hẹp', ',', 'mỗi', 'con', 'tìm', 'kiếm', 'kĩ', 'càng', 'bởi', 'đã', 'có', 'các', 'con', 'khác', 'ngay', 'bên', 'đang', 'tìm', 'kiếm', ',', 'nhưng', 'khi', 'chỉ', 'có', 'ít', 'con', 'trên', 'diện', 'rộng', ',', 'chúng', 'cần', 'giãn', 'ra', 'để', 'bao', 'được', 'rộng', 'hơn', '.']]\n",
      "TOKENS PREDICTED: ['cách', 'chúng', 'làm', 'là', 'khi', 'có', 'nhiều', 'con', 'trong', 'không', 'gian', 'tiến', ',', 'mỗi', 'con', 'tìm', 'kiếm', 'kĩ', 'càng', 'bởi', 'đã', 'cô', 'các', 'con', 'khác', 'ngay', 'bên', 'đang', 'tìm', 'kiếm', ',', 'nhưng', 'khi', 'chỉ', 'có', 'thể', 'trên', 'diện', 'rộng', ',', 'chúng', 'cần', 'động', 'cần', 'để', 'bao', 'được', 'rộng', 'hơn', '.']\n",
      "BLEU OF SENTENCE 20\n",
      "BLEU_1: 0.8821787826063222\n",
      "BLEU_2: 0.8401702997521322\n",
      "BLEU_3: 0.796083310666541\n",
      "BLEU_4: 0.7495545908937187\n",
      "label_ids = tensor([  57,   11,   31,    8,   41,   10,   60,   64,   19,   14,  190, 1808,\n",
      "           4,  233,   64,  155,  502,  871,  461,  102,   23,   10,   21,   64,\n",
      "          69,  280,  241,   53,  155,  502,    4,   44,   41,   70,   10,  342,\n",
      "          64,   68,  527,  531,    4,   11,  113, 1890,   30,   33,  213,   24,\n",
      "         531,   59,    5], device='cuda:0')\n",
      "pred_ids = tensor([ 57,  11,  31,   8,  41,  10,  60,  64,  19,  14, 190, 271,   4, 233,\n",
      "         64, 155, 502, 871, 461, 102,  23, 160,  21,  64,  69, 280, 241,  53,\n",
      "        155, 502,   4,  44,  41,  70,  10,  20,  68, 527, 531,   4,  11, 113,\n",
      "         95, 113,  33, 213,  24, 531,  59,   5,   1], device='cuda:0')\n",
      "recall = 0.6470588445663452\n",
      "precision = 0.686274528503418\n",
      "f_05 = 0.6760249733924866\n"
     ]
    },
    {
     "name": "stderr",
     "output_type": "stream",
     "text": [
      "Validation Bleu Epoch 00:  40%|████      | 40/100 [00:18<00:43,  1.39it/s]"
     ]
    },
    {
     "name": "stdout",
     "output_type": "stream",
     "text": [
      "\n",
      "    SOURCE: vậy nên chung tôi bắt đầu cho đi , và bây giờ , sau 30 năm , vợ chồg tôi là những ngườĩ hoàn trả chúng tôi cho đi đi 90 phần trăm sống dựa trên 10 % .\n",
      "    TARGET: vậy nên chúng tôi bắt đầu cho đi , và bây giờ , sau 30 năm , vợ chồng tôi là những người hoàn trả chúng tôi cho đi 90 phần trăm và sống dựa trên 10 % .\n",
      " PREDICTED: vậy nên chúng tôi bắt đầu cho đi , và bây giờ , sau 30 năm , vợ tôi là những người hoàn trả chúng tôi cho đi đi 90 phần trăm sống dựa trên 10 % .\n",
      "TOKENS TARGET: [['vậy', 'nên', 'chúng', 'tôi', 'bắt', 'đầu', 'cho', 'đi', ',', 'và', 'bây', 'giờ', ',', 'sau', '30', 'năm', ',', 'vợ', 'chồng', 'tôi', 'là', 'những', 'người', 'hoàn', 'trả', 'chúng', 'tôi', 'cho', 'đi', '90', 'phần', 'trăm', 'và', 'sống', 'dựa', 'trên', '10', '%', '.']]\n",
      "TOKENS PREDICTED: ['vậy', 'nên', 'chúng', 'tôi', 'bắt', 'đầu', 'cho', 'đi', ',', 'và', 'bây', 'giờ', ',', 'sau', '30', 'năm', ',', 'vợ', 'tôi', 'là', 'những', 'người', 'hoàn', 'trả', 'chúng', 'tôi', 'cho', 'đi', 'đi', '90', 'phần', 'trăm', 'sống', 'dựa', 'trên', '10', '%', '.']\n",
      "BLEU OF SENTENCE 40\n",
      "BLEU_1: 0.9483951336808532\n",
      "BLEU_2: 0.9213376995541844\n",
      "BLEU_3: 0.883234192026687\n",
      "BLEU_4: 0.8402838906138785\n",
      "label_ids = tensor([  71,   87,   11,    7,  121,   62,   27,   79,    4,    6,  240,   96,\n",
      "           4,  110,  720,   74,    4, 1053, 1070,    7,    8,   12,   18,  230,\n",
      "         315,   11,    7,   27,   79, 1217,  144,  508,    6,  106,  681,   68,\n",
      "         456,  445,    5], device='cuda:0')\n",
      "pred_ids = tensor([  71,   87,   11,    7,  121,   62,   27,   79,    4,    6,  240,   96,\n",
      "           4,  110,  720,   74,    4, 1053,    7,    8,   12,   18,  230,  315,\n",
      "          11,    7,   27,   79,   79, 1217,  144,  508,  106,  681,   68,  456,\n",
      "         445,    5,    1], device='cuda:0')\n",
      "recall = 0.5641025900840759\n",
      "precision = 0.5726495981216431\n",
      "f_05 = 0.5665445923805237\n"
     ]
    },
    {
     "name": "stderr",
     "output_type": "stream",
     "text": [
      "Validation Bleu Epoch 00:  60%|██████    | 60/100 [00:26<00:25,  1.59it/s]"
     ]
    },
    {
     "name": "stdout",
     "output_type": "stream",
     "text": [
      "\n",
      "    SOURCE: họ đã thiết kế một hệ thống bền vữg đến nỗi nó vẫn tồn tại với chúng ta cho đến hôm nay , tiếp tuc tạo ra những những con người tương tự nhau một bộ máy đã không còn tồn tạị .\n",
      "    TARGET: họ đã thiết kế một hệ thống bền vững đến nỗi nó vẫn tồn tại với chúng ta cho đến hôm nay , tiếp tục tạo ra những con người tương tự nhau cho một bộ máy đã không còn tồn tại .\n",
      " PREDICTED: họ đã thiết kế một hệ thống bền vững đến nỗi nó vẫn tồn tại với chúng ta cho đến hôm nay , tiếp tục tạo ra những con người tương tự nhau một bộ máy đã không còn tồn tại .\n",
      "TOKENS TARGET: [['họ', 'đã', 'thiết', 'kế', 'một', 'hệ', 'thống', 'bền', 'vững', 'đến', 'nỗi', 'nó', 'vẫn', 'tồn', 'tại', 'với', 'chúng', 'ta', 'cho', 'đến', 'hôm', 'nay', ',', 'tiếp', 'tục', 'tạo', 'ra', 'những', 'con', 'người', 'tương', 'tự', 'nhau', 'cho', 'một', 'bộ', 'máy', 'đã', 'không', 'còn', 'tồn', 'tại', '.']]\n",
      "TOKENS PREDICTED: ['họ', 'đã', 'thiết', 'kế', 'một', 'hệ', 'thống', 'bền', 'vững', 'đến', 'nỗi', 'nó', 'vẫn', 'tồn', 'tại', 'với', 'chúng', 'ta', 'cho', 'đến', 'hôm', 'nay', ',', 'tiếp', 'tục', 'tạo', 'ra', 'những', 'con', 'người', 'tương', 'tự', 'nhau', 'một', 'bộ', 'máy', 'đã', 'không', 'còn', 'tồn', 'tại', '.']\n",
      "BLEU OF SENTENCE 60\n",
      "BLEU_1: 0.9764716866522433\n",
      "BLEU_2: 0.964489997268898\n",
      "BLEU_3: 0.9520496159689376\n",
      "BLEU_4: 0.9391156214035523\n",
      "label_ids = tensor([  40,   23,  186,  264,    9,  161,  220, 1040,  982,   45,  736,   26,\n",
      "         238,  522,   92,   25,   11,   15,   27,   45,  424,  217,    4,  179,\n",
      "         465,   94,   30,   12,   64,   18,  226,  116,  157,   27,    9,  135,\n",
      "         175,   23,   14,  114,  522,   92,    5], device='cuda:0')\n",
      "pred_ids = tensor([  40,   23,  186,  264,    9,  161,  220, 1040,  982,   45,  736,   26,\n",
      "         238,  522,   92,   25,   11,   15,   27,   45,  424,  217,    4,  179,\n",
      "         465,   94,   30,   12,   64,   18,  226,  116,  157,    9,  135,  175,\n",
      "          23,   14,  114,  522,   92,    5,    1], device='cuda:0')\n",
      "recall = 0.7674418687820435\n",
      "precision = 0.7906976938247681\n",
      "f_05 = 0.7829457521438599\n"
     ]
    },
    {
     "name": "stderr",
     "output_type": "stream",
     "text": [
      "Validation Bleu Epoch 00:  80%|████████  | 80/100 [00:35<00:10,  1.85it/s]"
     ]
    },
    {
     "name": "stdout",
     "output_type": "stream",
     "text": [
      "\n",
      "    SOURCE: cô gái đó ở anh , và cô ấy sống -- đã sống để kể về bản thân -- về những gi mà cô ấy đã trải qua .\n",
      "    TARGET: cô gái đó ở anh , và cô ấy sống -- đã sống để kể về bản thân -- về những gì mà cô ấy đã trải qua .\n",
      " PREDICTED: cô gái đó ở anh , và cô ấy sống -- đã sống để kể về bản thân -- về những gì mà cô ấy đã trải qua .\n",
      "TOKENS TARGET: [['cô', 'gái', 'đó', 'ở', 'anh', ',', 'và', 'cô', 'ấy', 'sống', '--', 'đã', 'sống', 'để', 'kể', 'về', 'bản', 'thân', '--', 'về', 'những', 'gì', 'mà', 'cô', 'ấy', 'đã', 'trải', 'qua', '.']]\n",
      "TOKENS PREDICTED: ['cô', 'gái', 'đó', 'ở', 'anh', ',', 'và', 'cô', 'ấy', 'sống', '--', 'đã', 'sống', 'để', 'kể', 'về', 'bản', 'thân', '--', 'về', 'những', 'gì', 'mà', 'cô', 'ấy', 'đã', 'trải', 'qua', '.']\n",
      "BLEU OF SENTENCE 80\n",
      "BLEU_1: 1.0\n",
      "BLEU_2: 1.0\n",
      "BLEU_3: 1.0\n",
      "BLEU_4: 1.0\n",
      "label_ids = tensor([160, 583,  17,  32,  89,   4,   6, 160, 122, 106,  75,  23, 106,  33,\n",
      "        327,  37, 127, 332,  75,  37,  12,  54,  35, 160, 122,  23, 520, 142,\n",
      "          5], device='cuda:0')\n",
      "pred_ids = tensor([160, 583,  17,  32,  89,   4,   6, 160, 122, 106,  75,  23, 106,  33,\n",
      "        327,  37, 127, 332,  75,  37,  12,  54,  35, 160, 122,  23, 520, 142,\n",
      "          5], device='cuda:0')\n",
      "recall = 1.0\n",
      "precision = 1.0\n",
      "f_05 = 1.0\n"
     ]
    },
    {
     "name": "stderr",
     "output_type": "stream",
     "text": [
      "Validation Bleu Epoch 00: 100%|██████████| 100/100 [00:42<00:00,  2.34it/s]"
     ]
    },
    {
     "name": "stdout",
     "output_type": "stream",
     "text": [
      "\n",
      "    SOURCE: điểm mấự chốt ở đây là những quyền ưu tiên đó .\n",
      "    TARGET: điểm mấu chốt ở đây là những quyền ưu tiên đó .\n",
      " PREDICTED: điểm chốt ở đây là những quyền ưu tiên đó .\n",
      "TOKENS TARGET: [['điểm', 'mấu', 'chốt', 'ở', 'đây', 'là', 'những', 'quyền', 'ưu', 'tiên', 'đó', '.']]\n",
      "TOKENS PREDICTED: ['điểm', 'chốt', 'ở', 'đây', 'là', 'những', 'quyền', 'ưu', 'tiên', 'đó', '.']\n",
      "BLEU OF SENTENCE 100\n",
      "BLEU_1: 0.9131007162822624\n",
      "BLEU_2: 0.8662433659397117\n",
      "BLEU_3: 0.8476476346612649\n",
      "BLEU_4: 0.8352051988391603\n",
      "label_ids = tensor([ 222, 1750, 1310,   32,   43,    8,   12,  382, 1174,  211,   17,    5],\n",
      "       device='cuda:0')\n",
      "pred_ids = tensor([ 222, 1310,   32,   43,    8,   12,  382, 1174,  211,   17,    5,    1],\n",
      "       device='cuda:0')\n",
      "recall = 0.0833333358168602\n",
      "precision = 0.0833333358168602\n",
      "f_05 = 0.0833333358168602\n"
     ]
    },
    {
     "name": "stderr",
     "output_type": "stream",
     "text": [
      "\n"
     ]
    },
    {
     "name": "stdout",
     "output_type": "stream",
     "text": [
      "recall = 0.6563894748687744\n",
      "precision = 0.6696956157684326\n",
      "accuracy = 0.6563894748687744\n",
      "f_05 = 0.6644268035888672\n",
      "bleu_1_train: 0.9157883819695813 - bleu_1_val: 0.9162005635105387\n",
      "bleu_2_train: 0.884379588691526 - bleu_2_val: 0.8820617673909159\n",
      "bleu_3_train: 0.8555914277221005 - bleu_3_val: 0.8489620891604066\n",
      "bleu_4_train: 0.8270607102331637 - bleu_4_val: 0.8172567427921159\n",
      "sum_recall_train = 0.6563894748687744\n",
      "sum_recall_val = 0.65382981300354\n",
      "sum_precision_train = 0.6696956157684326\n",
      "sum_precision_val = 0.6613881587982178\n",
      "sum_f_05_train = 0.6644268035888672\n",
      "sum_f_05_val = 0.6577893495559692\n",
      "sum_accuracy_train = 0.6563894748687744\n",
      "sum_accuracy_val = 0.65382981300354\n",
      "Mean train loss: 4.264679661832872\n",
      "Mean validation loss: 1.873923084659717\n",
      "Đã lưu cấu hình tại epoch 0\n",
      "\n",
      "lr = 0.0003196878436581731\n"
     ]
    },
    {
     "name": "stderr",
     "output_type": "stream",
     "text": [
      "Processing Epoch 01: 100%|██████████| 3660/3660 [09:45<00:00,  6.25it/s, loss=1.641]\n",
      "Validation Loss Epoch 01: 100%|██████████| 407/407 [00:23<00:00, 17.11it/s, loss=1.694]\n",
      "Validation Bleu Epoch 01:  20%|██        | 20/100 [00:07<00:28,  2.83it/s]"
     ]
    },
    {
     "name": "stdout",
     "output_type": "stream",
     "text": [
      "\n",
      "    SOURCE: như như vậy chúng tôi đang tiến xa hơn mốc 12 bay giây .\n",
      "    TARGET: như vậy chúng tôi đang tiến xa hơn mốc 12 bay giây .\n",
      " PREDICTED: như vậy chúng tôi đang tiến xa hơn mốc 12 bay giây .\n",
      "TOKENS TARGET: [['như', 'vậy', 'chúng', 'tôi', 'đang', 'tiến', 'xa', 'hơn', 'mốc', '12', 'bay', 'giây', '.']]\n",
      "TOKENS PREDICTED: ['như', 'vậy', 'chúng', 'tôi', 'đang', 'tiến', 'xa', 'hơn', 'mốc', '12', 'bay', 'giây', '.']\n",
      "BLEU OF SENTENCE 20\n",
      "BLEU_1: 1.0\n",
      "BLEU_2: 1.0\n",
      "BLEU_3: 1.0\n",
      "BLEU_4: 1.0\n",
      "label_ids = tensor([  36,   71,   11,    7,   53,  271,  467,   59, 2299,  967,  437,  845,\n",
      "           5], device='cuda:0')\n",
      "pred_ids = tensor([  36,   71,   11,    7,   53,  271,  467,   59, 2299,  967,  437,  845,\n",
      "           5], device='cuda:0')\n",
      "recall = 1.0\n",
      "precision = 1.0\n",
      "f_05 = 1.0\n"
     ]
    },
    {
     "name": "stderr",
     "output_type": "stream",
     "text": [
      "Validation Bleu Epoch 01:  40%|████      | 40/100 [00:16<00:26,  2.25it/s]"
     ]
    },
    {
     "name": "stdout",
     "output_type": "stream",
     "text": [
      "\n",
      "    SOURCE: lhờ vậy các doanh nghiệp cũng dần thoát khỏi những nợ nần .\n",
      "    TARGET: nhờ vậy các doanh nghiệp cũng dần thoát khỏi những nợ nần .\n",
      " PREDICTED: nhờ vậy các doanh nghiệp cũng dần thoát khỏi những nợ lần .\n",
      "TOKENS TARGET: [['nhờ', 'vậy', 'các', 'doanh', 'nghiệp', 'cũng', 'dần', 'thoát', 'khỏi', 'những', 'nợ', 'nần', '.']]\n",
      "TOKENS PREDICTED: ['nhờ', 'vậy', 'các', 'doanh', 'nghiệp', 'cũng', 'dần', 'thoát', 'khỏi', 'những', 'nợ', 'lần', '.']\n",
      "BLEU OF SENTENCE 40\n",
      "BLEU_1: 0.9230769276618958\n",
      "BLEU_2: 0.8770580291748047\n",
      "BLEU_3: 0.856976330280304\n",
      "BLEU_4: 0.8423627018928528\n",
      "label_ids = tensor([ 767,   71,   21,  597,  347,   82,  710, 1086,  408,   12, 1758, 5266,\n",
      "           5], device='cuda:0')\n",
      "pred_ids = tensor([ 767,   71,   21,  597,  347,   82,  710, 1086,  408,   12, 1758,  208,\n",
      "           5], device='cuda:0')\n",
      "recall = 0.9230769872665405\n",
      "precision = 0.9230769872665405\n",
      "f_05 = 0.9230769872665405\n"
     ]
    },
    {
     "name": "stderr",
     "output_type": "stream",
     "text": [
      "Validation Bleu Epoch 01:  60%|██████    | 60/100 [00:23<00:14,  2.71it/s]"
     ]
    },
    {
     "name": "stdout",
     "output_type": "stream",
     "text": [
      "\n",
      "    SOURCE: tôi đem xe đạp đến tiệm-- tôi thích nó -- xe cu , và anh thợ \" chỉnh sửa \" lại vị trí bánh xe .\n",
      "    TARGET: tôi đem xe đạp đến tiệm-- tôi thích nó -- xe cũ , và anh thợ \" chỉnh sửa \" lại vị trí bánh xe .\n",
      " PREDICTED: tôi đem xe đạp đến tiệm -- tôi thích nó -- xe cụ , và anh thợ \" chỉnh sửa \" lại vị trí bánh xe .\n",
      "TOKENS TARGET: [['tôi', 'đem', 'xe', 'đạp', 'đến', 'tiệm', '--', 'tôi', 'thích', 'nó', '--', 'xe', 'cũ', ',', 'và', 'anh', 'thợ', '\"', 'chỉnh', 'sửa', '\"', 'lại', 'vị', 'trí', 'bánh', 'xe', '.']]\n",
      "TOKENS PREDICTED: ['tôi', 'đem', 'xe', 'đạp', 'đến', 'tiệm', '--', 'tôi', 'thích', 'nó', '--', 'xe', 'cụ', ',', 'và', 'anh', 'thợ', '\"', 'chỉnh', 'sửa', '\"', 'lại', 'vị', 'trí', 'bánh', 'xe', '.']\n",
      "BLEU OF SENTENCE 60\n",
      "BLEU_1: 0.9629629850387573\n",
      "BLEU_2: 0.9428090453147888\n",
      "BLEU_3: 0.9213897585868835\n",
      "BLEU_4: 0.8985396027565002\n",
      "label_ids = tensor([   7,  840,  285, 1198,   45, 2196,   75,    7,  196,   26,   75,  285,\n",
      "         975,    4,    6,   89, 1483,   28,  891,  979,   28,   55,  197,  360,\n",
      "         694,  285,    5], device='cuda:0')\n",
      "pred_ids = tensor([   7,  840,  285, 1198,   45, 2196,   75,    7,  196,   26,   75,  285,\n",
      "         446,    4,    6,   89, 1483,   28,  891,  979,   28,   55,  197,  360,\n",
      "         694,  285,    5], device='cuda:0')\n",
      "recall = 0.9629629850387573\n",
      "precision = 0.9629629850387573\n",
      "f_05 = 0.9629629850387573\n"
     ]
    },
    {
     "name": "stderr",
     "output_type": "stream",
     "text": [
      "Validation Bleu Epoch 01:  80%|████████  | 80/100 [00:34<00:11,  1.79it/s]"
     ]
    },
    {
     "name": "stdout",
     "output_type": "stream",
     "text": [
      "\n",
      "    SOURCE: melinda , đây là khi nào và ở đâu vậy ? người đàn ông đẹp trai cạnh trị là ai vậy ?\n",
      "    TARGET: melinda , đây là khi nào và ở đâu vậy ? người đàn ông đẹp trai cạnh chị là ai vậy ?\n",
      " PREDICTED: giơ , đây là khi nào và ở đâu vậy ? người đàn ông đẹp trai cạnh trị là ai vậy ?\n",
      "TOKENS TARGET: [['melinda', ',', 'đây', 'là', 'khi', 'nào', 'và', 'ở', 'đâu', 'vậy', '?', 'người', 'đàn', 'ông', 'đẹp', 'trai', 'cạnh', 'chị', 'là', 'ai', 'vậy', '?']]\n",
      "TOKENS PREDICTED: ['giơ', ',', 'đây', 'là', 'khi', 'nào', 'và', 'ở', 'đâu', 'vậy', '?', 'người', 'đàn', 'ông', 'đẹp', 'trai', 'cạnh', 'trị', 'là', 'ai', 'vậy', '?']\n",
      "BLEU OF SENTENCE 80\n",
      "BLEU_1: 0.9090909361839294\n",
      "BLEU_2: 0.8827348351478577\n",
      "BLEU_3: 0.8542470932006836\n",
      "BLEU_4: 0.8232490420341492\n",
      "label_ids = tensor([3529,    4,   43,    8,   41,   72,    6,   32,  378,   71,   47,   18,\n",
      "         448,   99,  460,  684,  644,  798,    8,  184,   71,   47],\n",
      "       device='cuda:0')\n",
      "pred_ids = tensor([1544,    4,   43,    8,   41,   72,    6,   32,  378,   71,   47,   18,\n",
      "         448,   99,  460,  684,  644,  255,    8,  184,   71,   47],\n",
      "       device='cuda:0')\n",
      "recall = 0.9090909361839294\n",
      "precision = 0.9090909361839294\n",
      "f_05 = 0.9090909361839294\n"
     ]
    },
    {
     "name": "stderr",
     "output_type": "stream",
     "text": [
      "Validation Bleu Epoch 01: 100%|██████████| 100/100 [00:42<00:00,  2.38it/s]"
     ]
    },
    {
     "name": "stdout",
     "output_type": "stream",
     "text": [
      "\n",
      "    SOURCE: vậy còn các công ty khai khoáng , khí ga ga và dầu mỏ thì sao ?\n",
      "    TARGET: vậy còn các công ty khai khoáng , khí ga và dầu mỏ thì sao ?\n",
      " PREDICTED: vậy còn các công ty khai khoáng , khí ra và dầu mỏ thì sao ?\n",
      "TOKENS TARGET: [['vậy', 'còn', 'các', 'công', 'ty', 'khai', 'khoáng', ',', 'khí', 'ga', 'và', 'dầu', 'mỏ', 'thì', 'sao', '?']]\n",
      "TOKENS PREDICTED: ['vậy', 'còn', 'các', 'công', 'ty', 'khai', 'khoáng', ',', 'khí', 'ra', 'và', 'dầu', 'mỏ', 'thì', 'sao', '?']\n",
      "BLEU OF SENTENCE 100\n",
      "BLEU_1: 0.9375\n",
      "BLEU_2: 0.9013878107070923\n",
      "BLEU_3: 0.8610519170761108\n",
      "BLEU_4: 0.815355122089386\n",
      "label_ids = tensor([  71,  114,   21,   67,  505,  822, 1993,    4,  400, 1854,    6,  728,\n",
      "        1322,  115,  130,   47], device='cuda:0')\n",
      "pred_ids = tensor([  71,  114,   21,   67,  505,  822, 1993,    4,  400,   30,    6,  728,\n",
      "        1322,  115,  130,   47], device='cuda:0')\n",
      "recall = 0.9375\n",
      "precision = 0.9375\n",
      "f_05 = 0.9375\n"
     ]
    },
    {
     "name": "stderr",
     "output_type": "stream",
     "text": [
      "\n"
     ]
    },
    {
     "name": "stdout",
     "output_type": "stream",
     "text": [
      "recall = 0.6859923601150513\n",
      "precision = 0.6929478645324707\n",
      "accuracy = 0.6859923601150513\n",
      "f_05 = 0.6904240846633911\n"
     ]
    },
    {
     "name": "stderr",
     "output_type": "stream",
     "text": [
      "Validation Bleu Epoch 01:  20%|██        | 20/100 [00:09<00:48,  1.66it/s]"
     ]
    },
    {
     "name": "stdout",
     "output_type": "stream",
     "text": [
      "\n",
      "    SOURCE: cách chúng lam là khi có nhiều con trong khôn gian hẹph , mỗi con tìm kiếm kĩ càng bởi đã cô các con khác ngay bên đang tìm kiếm kiếm , nhưng khi chỉ có ĩt con trên diện rộng , chúng cần giãn để bao được rộng hơn .\n",
      "    TARGET: cách chúng làm là khi có nhiều con trong không gian hẹp , mỗi con tìm kiếm kĩ càng bởi đã có các con khác ngay bên đang tìm kiếm , nhưng khi chỉ có ít con trên diện rộng , chúng cần giãn ra để bao được rộng hơn .\n",
      " PREDICTED: cách chúng làm là khi có nhiều con trong không gian hẹp , mỗi con tìm kiếm kĩ càng bởi đã cô các con khác ngay bên đang tìm kiếm , nhưng khi chỉ có ít con trên diện rộng , chúng cần giãn để bao được rộng hơn .\n",
      "TOKENS TARGET: [['cách', 'chúng', 'làm', 'là', 'khi', 'có', 'nhiều', 'con', 'trong', 'không', 'gian', 'hẹp', ',', 'mỗi', 'con', 'tìm', 'kiếm', 'kĩ', 'càng', 'bởi', 'đã', 'có', 'các', 'con', 'khác', 'ngay', 'bên', 'đang', 'tìm', 'kiếm', ',', 'nhưng', 'khi', 'chỉ', 'có', 'ít', 'con', 'trên', 'diện', 'rộng', ',', 'chúng', 'cần', 'giãn', 'ra', 'để', 'bao', 'được', 'rộng', 'hơn', '.']]\n",
      "TOKENS PREDICTED: ['cách', 'chúng', 'làm', 'là', 'khi', 'có', 'nhiều', 'con', 'trong', 'không', 'gian', 'hẹp', ',', 'mỗi', 'con', 'tìm', 'kiếm', 'kĩ', 'càng', 'bởi', 'đã', 'cô', 'các', 'con', 'khác', 'ngay', 'bên', 'đang', 'tìm', 'kiếm', ',', 'nhưng', 'khi', 'chỉ', 'có', 'ít', 'con', 'trên', 'diện', 'rộng', ',', 'chúng', 'cần', 'giãn', 'để', 'bao', 'được', 'rộng', 'hơn', '.']\n",
      "BLEU OF SENTENCE 20\n",
      "BLEU_1: 0.9605947185364262\n",
      "BLEU_2: 0.9401735817709709\n",
      "BLEU_3: 0.9190076508342233\n",
      "BLEU_4: 0.8970329510150469\n",
      "label_ids = tensor([  57,   11,   31,    8,   41,   10,   60,   64,   19,   14,  190, 1808,\n",
      "           4,  233,   64,  155,  502,  871,  461,  102,   23,   10,   21,   64,\n",
      "          69,  280,  241,   53,  155,  502,    4,   44,   41,   70,   10,  342,\n",
      "          64,   68,  527,  531,    4,   11,  113, 1890,   30,   33,  213,   24,\n",
      "         531,   59,    5], device='cuda:0')\n",
      "pred_ids = tensor([  57,   11,   31,    8,   41,   10,   60,   64,   19,   14,  190, 1808,\n",
      "           4,  233,   64,  155,  502,  871,  461,  102,   23,  160,   21,   64,\n",
      "          69,  280,  241,   53,  155,  502,    4,   44,   41,   70,   10,  342,\n",
      "          64,   68,  527,  531,    4,   11,  113, 1890,   33,  213,   24,  531,\n",
      "          59,    5,    1], device='cuda:0')\n",
      "recall = 0.843137264251709\n",
      "precision = 0.8627451658248901\n",
      "f_05 = 0.8573975563049316\n"
     ]
    },
    {
     "name": "stderr",
     "output_type": "stream",
     "text": [
      "Validation Bleu Epoch 01:  40%|████      | 40/100 [00:18<00:43,  1.39it/s]"
     ]
    },
    {
     "name": "stdout",
     "output_type": "stream",
     "text": [
      "\n",
      "    SOURCE: vậy nên chung tôi bắt đầu cho đi , và bây giờ , sau 30 năm , vợ chồg tôi là những ngườĩ hoàn trả chúng tôi cho đi đi 90 phần trăm sống dựa trên 10 % .\n",
      "    TARGET: vậy nên chúng tôi bắt đầu cho đi , và bây giờ , sau 30 năm , vợ chồng tôi là những người hoàn trả chúng tôi cho đi 90 phần trăm và sống dựa trên 10 % .\n",
      " PREDICTED: vậy nên chúng tôi bắt đầu cho đi , và bây giờ , sau 30 năm , vợ chồng tôi là những người hoàn trả chúng tôi cho đi 90 phần trăm sống dựa trên 10 % .\n",
      "TOKENS TARGET: [['vậy', 'nên', 'chúng', 'tôi', 'bắt', 'đầu', 'cho', 'đi', ',', 'và', 'bây', 'giờ', ',', 'sau', '30', 'năm', ',', 'vợ', 'chồng', 'tôi', 'là', 'những', 'người', 'hoàn', 'trả', 'chúng', 'tôi', 'cho', 'đi', '90', 'phần', 'trăm', 'và', 'sống', 'dựa', 'trên', '10', '%', '.']]\n",
      "TOKENS PREDICTED: ['vậy', 'nên', 'chúng', 'tôi', 'bắt', 'đầu', 'cho', 'đi', ',', 'và', 'bây', 'giờ', ',', 'sau', '30', 'năm', ',', 'vợ', 'chồng', 'tôi', 'là', 'những', 'người', 'hoàn', 'trả', 'chúng', 'tôi', 'cho', 'đi', '90', 'phần', 'trăm', 'sống', 'dựa', 'trên', '10', '%', '.']\n",
      "BLEU OF SENTENCE 40\n",
      "BLEU_1: 0.9740274534203012\n",
      "BLEU_2: 0.9607747662732108\n",
      "BLEU_3: 0.9469570146241113\n",
      "BLEU_4: 0.932526069584462\n",
      "label_ids = tensor([  71,   87,   11,    7,  121,   62,   27,   79,    4,    6,  240,   96,\n",
      "           4,  110,  720,   74,    4, 1053, 1070,    7,    8,   12,   18,  230,\n",
      "         315,   11,    7,   27,   79, 1217,  144,  508,    6,  106,  681,   68,\n",
      "         456,  445,    5], device='cuda:0')\n",
      "pred_ids = tensor([  71,   87,   11,    7,  121,   62,   27,   79,    4,    6,  240,   96,\n",
      "           4,  110,  720,   74,    4, 1053, 1070,    7,    8,   12,   18,  230,\n",
      "         315,   11,    7,   27,   79, 1217,  144,  508,  106,  681,   68,  456,\n",
      "         445,    5,    1], device='cuda:0')\n",
      "recall = 0.8205128908157349\n",
      "precision = 0.8461538553237915\n",
      "f_05 = 0.8376069068908691\n"
     ]
    },
    {
     "name": "stderr",
     "output_type": "stream",
     "text": [
      "Validation Bleu Epoch 01:  60%|██████    | 60/100 [00:27<00:22,  1.77it/s]"
     ]
    },
    {
     "name": "stdout",
     "output_type": "stream",
     "text": [
      "\n",
      "    SOURCE: họ đã thiết kế một hệ thống bền vữg đến nỗi nó vẫn tồn tại với chúng ta cho đến hôm nay , tiếp tuc tạo ra những những con người tương tự nhau một bộ máy đã không còn tồn tạị .\n",
      "    TARGET: họ đã thiết kế một hệ thống bền vững đến nỗi nó vẫn tồn tại với chúng ta cho đến hôm nay , tiếp tục tạo ra những con người tương tự nhau cho một bộ máy đã không còn tồn tại .\n",
      " PREDICTED: họ đã thiết kế một hệ thống bền vững đến nỗi nó vẫn tồn tại với chúng ta cho đến hôm nay , tiếp tục tạo ra những con người tương tự nhau một bộ máy đã không còn tồn tại .\n",
      "TOKENS TARGET: [['họ', 'đã', 'thiết', 'kế', 'một', 'hệ', 'thống', 'bền', 'vững', 'đến', 'nỗi', 'nó', 'vẫn', 'tồn', 'tại', 'với', 'chúng', 'ta', 'cho', 'đến', 'hôm', 'nay', ',', 'tiếp', 'tục', 'tạo', 'ra', 'những', 'con', 'người', 'tương', 'tự', 'nhau', 'cho', 'một', 'bộ', 'máy', 'đã', 'không', 'còn', 'tồn', 'tại', '.']]\n",
      "TOKENS PREDICTED: ['họ', 'đã', 'thiết', 'kế', 'một', 'hệ', 'thống', 'bền', 'vững', 'đến', 'nỗi', 'nó', 'vẫn', 'tồn', 'tại', 'với', 'chúng', 'ta', 'cho', 'đến', 'hôm', 'nay', ',', 'tiếp', 'tục', 'tạo', 'ra', 'những', 'con', 'người', 'tương', 'tự', 'nhau', 'một', 'bộ', 'máy', 'đã', 'không', 'còn', 'tồn', 'tại', '.']\n",
      "BLEU OF SENTENCE 60\n",
      "BLEU_1: 0.9764716866522433\n",
      "BLEU_2: 0.964489997268898\n",
      "BLEU_3: 0.9520496159689376\n",
      "BLEU_4: 0.9391156214035523\n",
      "label_ids = tensor([  40,   23,  186,  264,    9,  161,  220, 1040,  982,   45,  736,   26,\n",
      "         238,  522,   92,   25,   11,   15,   27,   45,  424,  217,    4,  179,\n",
      "         465,   94,   30,   12,   64,   18,  226,  116,  157,   27,    9,  135,\n",
      "         175,   23,   14,  114,  522,   92,    5], device='cuda:0')\n",
      "pred_ids = tensor([  40,   23,  186,  264,    9,  161,  220, 1040,  982,   45,  736,   26,\n",
      "         238,  522,   92,   25,   11,   15,   27,   45,  424,  217,    4,  179,\n",
      "         465,   94,   30,   12,   64,   18,  226,  116,  157,    9,  135,  175,\n",
      "          23,   14,  114,  522,   92,    5,    1], device='cuda:0')\n",
      "recall = 0.7674418687820435\n",
      "precision = 0.7906976938247681\n",
      "f_05 = 0.7829457521438599\n"
     ]
    },
    {
     "name": "stderr",
     "output_type": "stream",
     "text": [
      "Validation Bleu Epoch 01:  80%|████████  | 80/100 [00:36<00:10,  1.83it/s]"
     ]
    },
    {
     "name": "stdout",
     "output_type": "stream",
     "text": [
      "\n",
      "    SOURCE: cô gái đó ở anh , và cô ấy sống -- đã sống để kể về bản thân -- về những gi mà cô ấy đã trải qua .\n",
      "    TARGET: cô gái đó ở anh , và cô ấy sống -- đã sống để kể về bản thân -- về những gì mà cô ấy đã trải qua .\n",
      " PREDICTED: cô gái đó ở anh , và cô ấy sống -- đã sống để kể về bản thân -- về những gì mà cô ấy đã trải qua .\n",
      "TOKENS TARGET: [['cô', 'gái', 'đó', 'ở', 'anh', ',', 'và', 'cô', 'ấy', 'sống', '--', 'đã', 'sống', 'để', 'kể', 'về', 'bản', 'thân', '--', 'về', 'những', 'gì', 'mà', 'cô', 'ấy', 'đã', 'trải', 'qua', '.']]\n",
      "TOKENS PREDICTED: ['cô', 'gái', 'đó', 'ở', 'anh', ',', 'và', 'cô', 'ấy', 'sống', '--', 'đã', 'sống', 'để', 'kể', 'về', 'bản', 'thân', '--', 'về', 'những', 'gì', 'mà', 'cô', 'ấy', 'đã', 'trải', 'qua', '.']\n",
      "BLEU OF SENTENCE 80\n",
      "BLEU_1: 1.0\n",
      "BLEU_2: 1.0\n",
      "BLEU_3: 1.0\n",
      "BLEU_4: 1.0\n",
      "label_ids = tensor([160, 583,  17,  32,  89,   4,   6, 160, 122, 106,  75,  23, 106,  33,\n",
      "        327,  37, 127, 332,  75,  37,  12,  54,  35, 160, 122,  23, 520, 142,\n",
      "          5], device='cuda:0')\n",
      "pred_ids = tensor([160, 583,  17,  32,  89,   4,   6, 160, 122, 106,  75,  23, 106,  33,\n",
      "        327,  37, 127, 332,  75,  37,  12,  54,  35, 160, 122,  23, 520, 142,\n",
      "          5], device='cuda:0')\n",
      "recall = 1.0\n",
      "precision = 1.0\n",
      "f_05 = 1.0\n"
     ]
    },
    {
     "name": "stderr",
     "output_type": "stream",
     "text": [
      "Validation Bleu Epoch 01: 100%|██████████| 100/100 [00:43<00:00,  2.29it/s]"
     ]
    },
    {
     "name": "stdout",
     "output_type": "stream",
     "text": [
      "\n",
      "    SOURCE: điểm mấự chốt ở đây là những quyền ưu tiên đó .\n",
      "    TARGET: điểm mấu chốt ở đây là những quyền ưu tiên đó .\n",
      " PREDICTED: điểm mấu chốt ở đây là những quyền ưu tiên đó .\n",
      "TOKENS TARGET: [['điểm', 'mấu', 'chốt', 'ở', 'đây', 'là', 'những', 'quyền', 'ưu', 'tiên', 'đó', '.']]\n",
      "TOKENS PREDICTED: ['điểm', 'mấu', 'chốt', 'ở', 'đây', 'là', 'những', 'quyền', 'ưu', 'tiên', 'đó', '.']\n",
      "BLEU OF SENTENCE 100\n",
      "BLEU_1: 1.0\n",
      "BLEU_2: 1.0\n",
      "BLEU_3: 1.0\n",
      "BLEU_4: 1.0\n",
      "label_ids = tensor([ 222, 1750, 1310,   32,   43,    8,   12,  382, 1174,  211,   17,    5],\n",
      "       device='cuda:0')\n",
      "pred_ids = tensor([ 222, 1750, 1310,   32,   43,    8,   12,  382, 1174,  211,   17,    5],\n",
      "       device='cuda:0')\n",
      "recall = 1.0\n",
      "precision = 1.0\n",
      "f_05 = 1.0\n"
     ]
    },
    {
     "name": "stderr",
     "output_type": "stream",
     "text": [
      "\n"
     ]
    },
    {
     "name": "stdout",
     "output_type": "stream",
     "text": [
      "recall = 0.6953346729278564\n",
      "precision = 0.7028880715370178\n",
      "accuracy = 0.6953346729278564\n",
      "f_05 = 0.700589120388031\n",
      "bleu_1_train: 0.9567873877637771 - bleu_1_val: 0.9469249570841586\n",
      "bleu_2_train: 0.9385726180921282 - bleu_2_val: 0.922181559913023\n",
      "bleu_3_train: 0.9212484006641479 - bleu_3_val: 0.8985077227899971\n",
      "bleu_4_train: 0.9037221457612279 - bleu_4_val: 0.8755626315983079\n",
      "sum_recall_train = 0.6953346729278564\n",
      "sum_recall_val = 0.6859923601150513\n",
      "sum_precision_train = 0.7028880715370178\n",
      "sum_precision_val = 0.6929478645324707\n",
      "sum_f_05_train = 0.700589120388031\n",
      "sum_f_05_val = 0.6904240846633911\n",
      "sum_accuracy_train = 0.6953346729278564\n",
      "sum_accuracy_val = 0.6859923601150513\n",
      "Mean train loss: 1.7783290493683737\n",
      "Mean validation loss: 1.6433509175256078\n",
      "Đã lưu cấu hình tại epoch 1\n",
      "\n",
      "lr = 0.0002582732831669087\n"
     ]
    },
    {
     "name": "stderr",
     "output_type": "stream",
     "text": [
      "Processing Epoch 02: 100%|██████████| 3660/3660 [09:44<00:00,  6.26it/s, loss=1.505]\n",
      "Validation Loss Epoch 02: 100%|██████████| 407/407 [00:23<00:00, 17.15it/s, loss=1.671]\n",
      "Validation Bleu Epoch 02:  20%|██        | 20/100 [00:07<00:30,  2.66it/s]"
     ]
    },
    {
     "name": "stdout",
     "output_type": "stream",
     "text": [
      "\n",
      "    SOURCE: như như vậy chúng tôi đang tiến xa hơn mốc 12 bay giây .\n",
      "    TARGET: như vậy chúng tôi đang tiến xa hơn mốc 12 bay giây .\n",
      " PREDICTED: như vậy chúng tôi đang tiến xa hơn mốc 12 bay giây .\n",
      "TOKENS TARGET: [['như', 'vậy', 'chúng', 'tôi', 'đang', 'tiến', 'xa', 'hơn', 'mốc', '12', 'bay', 'giây', '.']]\n",
      "TOKENS PREDICTED: ['như', 'vậy', 'chúng', 'tôi', 'đang', 'tiến', 'xa', 'hơn', 'mốc', '12', 'bay', 'giây', '.']\n",
      "BLEU OF SENTENCE 20\n",
      "BLEU_1: 1.0\n",
      "BLEU_2: 1.0\n",
      "BLEU_3: 1.0\n",
      "BLEU_4: 1.0\n",
      "label_ids = tensor([  36,   71,   11,    7,   53,  271,  467,   59, 2299,  967,  437,  845,\n",
      "           5], device='cuda:0')\n",
      "pred_ids = tensor([  36,   71,   11,    7,   53,  271,  467,   59, 2299,  967,  437,  845,\n",
      "           5], device='cuda:0')\n",
      "recall = 1.0\n",
      "precision = 1.0\n",
      "f_05 = 1.0\n"
     ]
    },
    {
     "name": "stderr",
     "output_type": "stream",
     "text": [
      "Validation Bleu Epoch 02:  40%|████      | 40/100 [00:16<00:26,  2.27it/s]"
     ]
    },
    {
     "name": "stdout",
     "output_type": "stream",
     "text": [
      "\n",
      "    SOURCE: lhờ vậy các doanh nghiệp cũng dần thoát khỏi những nợ nần .\n",
      "    TARGET: nhờ vậy các doanh nghiệp cũng dần thoát khỏi những nợ nần .\n",
      " PREDICTED: nhờ vậy các doanh nghiệp cũng dần thoát khỏi những nợ lần .\n",
      "TOKENS TARGET: [['nhờ', 'vậy', 'các', 'doanh', 'nghiệp', 'cũng', 'dần', 'thoát', 'khỏi', 'những', 'nợ', 'nần', '.']]\n",
      "TOKENS PREDICTED: ['nhờ', 'vậy', 'các', 'doanh', 'nghiệp', 'cũng', 'dần', 'thoát', 'khỏi', 'những', 'nợ', 'lần', '.']\n",
      "BLEU OF SENTENCE 40\n",
      "BLEU_1: 0.9230769276618958\n",
      "BLEU_2: 0.8770580291748047\n",
      "BLEU_3: 0.856976330280304\n",
      "BLEU_4: 0.8423627018928528\n",
      "label_ids = tensor([ 767,   71,   21,  597,  347,   82,  710, 1086,  408,   12, 1758, 5266,\n",
      "           5], device='cuda:0')\n",
      "pred_ids = tensor([ 767,   71,   21,  597,  347,   82,  710, 1086,  408,   12, 1758,  208,\n",
      "           5], device='cuda:0')\n",
      "recall = 0.9230769872665405\n",
      "precision = 0.9230769872665405\n",
      "f_05 = 0.9230769872665405\n"
     ]
    },
    {
     "name": "stderr",
     "output_type": "stream",
     "text": [
      "Validation Bleu Epoch 02:  60%|██████    | 60/100 [00:23<00:14,  2.82it/s]"
     ]
    },
    {
     "name": "stdout",
     "output_type": "stream",
     "text": [
      "\n",
      "    SOURCE: tôi đem xe đạp đến tiệm-- tôi thích nó -- xe cu , và anh thợ \" chỉnh sửa \" lại vị trí bánh xe .\n",
      "    TARGET: tôi đem xe đạp đến tiệm-- tôi thích nó -- xe cũ , và anh thợ \" chỉnh sửa \" lại vị trí bánh xe .\n",
      " PREDICTED: tôi đem xe đạp đến tiệm -- tôi thích nó -- xe cụ , và anh thợ \" chỉnh sửa \" lại vị trí bánh xe .\n",
      "TOKENS TARGET: [['tôi', 'đem', 'xe', 'đạp', 'đến', 'tiệm', '--', 'tôi', 'thích', 'nó', '--', 'xe', 'cũ', ',', 'và', 'anh', 'thợ', '\"', 'chỉnh', 'sửa', '\"', 'lại', 'vị', 'trí', 'bánh', 'xe', '.']]\n",
      "TOKENS PREDICTED: ['tôi', 'đem', 'xe', 'đạp', 'đến', 'tiệm', '--', 'tôi', 'thích', 'nó', '--', 'xe', 'cụ', ',', 'và', 'anh', 'thợ', '\"', 'chỉnh', 'sửa', '\"', 'lại', 'vị', 'trí', 'bánh', 'xe', '.']\n",
      "BLEU OF SENTENCE 60\n",
      "BLEU_1: 0.9629629850387573\n",
      "BLEU_2: 0.9428090453147888\n",
      "BLEU_3: 0.9213897585868835\n",
      "BLEU_4: 0.8985396027565002\n",
      "label_ids = tensor([   7,  840,  285, 1198,   45, 2196,   75,    7,  196,   26,   75,  285,\n",
      "         975,    4,    6,   89, 1483,   28,  891,  979,   28,   55,  197,  360,\n",
      "         694,  285,    5], device='cuda:0')\n",
      "pred_ids = tensor([   7,  840,  285, 1198,   45, 2196,   75,    7,  196,   26,   75,  285,\n",
      "         446,    4,    6,   89, 1483,   28,  891,  979,   28,   55,  197,  360,\n",
      "         694,  285,    5], device='cuda:0')\n",
      "recall = 0.9629629850387573\n",
      "precision = 0.9629629850387573\n",
      "f_05 = 0.9629629850387573\n"
     ]
    },
    {
     "name": "stderr",
     "output_type": "stream",
     "text": [
      "Validation Bleu Epoch 02:  80%|████████  | 80/100 [00:34<00:11,  1.76it/s]"
     ]
    },
    {
     "name": "stdout",
     "output_type": "stream",
     "text": [
      "\n",
      "    SOURCE: melinda , đây là khi nào và ở đâu vậy ? người đàn ông đẹp trai cạnh trị là ai vậy ?\n",
      "    TARGET: melinda , đây là khi nào và ở đâu vậy ? người đàn ông đẹp trai cạnh chị là ai vậy ?\n",
      " PREDICTED: west , đây là khi nào và ở đâu vậy ? người đàn ông đẹp trai cạnh trị là ai vậy ?\n",
      "TOKENS TARGET: [['melinda', ',', 'đây', 'là', 'khi', 'nào', 'và', 'ở', 'đâu', 'vậy', '?', 'người', 'đàn', 'ông', 'đẹp', 'trai', 'cạnh', 'chị', 'là', 'ai', 'vậy', '?']]\n",
      "TOKENS PREDICTED: ['west', ',', 'đây', 'là', 'khi', 'nào', 'và', 'ở', 'đâu', 'vậy', '?', 'người', 'đàn', 'ông', 'đẹp', 'trai', 'cạnh', 'trị', 'là', 'ai', 'vậy', '?']\n",
      "BLEU OF SENTENCE 80\n",
      "BLEU_1: 0.9090909361839294\n",
      "BLEU_2: 0.8827348351478577\n",
      "BLEU_3: 0.8542470932006836\n",
      "BLEU_4: 0.8232490420341492\n",
      "label_ids = tensor([3529,    4,   43,    8,   41,   72,    6,   32,  378,   71,   47,   18,\n",
      "         448,   99,  460,  684,  644,  798,    8,  184,   71,   47],\n",
      "       device='cuda:0')\n",
      "pred_ids = tensor([3262,    4,   43,    8,   41,   72,    6,   32,  378,   71,   47,   18,\n",
      "         448,   99,  460,  684,  644,  255,    8,  184,   71,   47],\n",
      "       device='cuda:0')\n",
      "recall = 0.9090909361839294\n",
      "precision = 0.9090909361839294\n",
      "f_05 = 0.9090909361839294\n"
     ]
    },
    {
     "name": "stderr",
     "output_type": "stream",
     "text": [
      "Validation Bleu Epoch 02: 100%|██████████| 100/100 [00:42<00:00,  2.36it/s]"
     ]
    },
    {
     "name": "stdout",
     "output_type": "stream",
     "text": [
      "\n",
      "    SOURCE: vậy còn các công ty khai khoáng , khí ga ga và dầu mỏ thì sao ?\n",
      "    TARGET: vậy còn các công ty khai khoáng , khí ga và dầu mỏ thì sao ?\n",
      " PREDICTED: vậy còn các công ty khai khoáng , khí ga và dầu mỏ thì sao ?\n",
      "TOKENS TARGET: [['vậy', 'còn', 'các', 'công', 'ty', 'khai', 'khoáng', ',', 'khí', 'ga', 'và', 'dầu', 'mỏ', 'thì', 'sao', '?']]\n",
      "TOKENS PREDICTED: ['vậy', 'còn', 'các', 'công', 'ty', 'khai', 'khoáng', ',', 'khí', 'ga', 'và', 'dầu', 'mỏ', 'thì', 'sao', '?']\n",
      "BLEU OF SENTENCE 100\n",
      "BLEU_1: 1.0\n",
      "BLEU_2: 1.0\n",
      "BLEU_3: 1.0\n",
      "BLEU_4: 1.0\n",
      "label_ids = tensor([  71,  114,   21,   67,  505,  822, 1993,    4,  400, 1854,    6,  728,\n",
      "        1322,  115,  130,   47], device='cuda:0')\n",
      "pred_ids = tensor([  71,  114,   21,   67,  505,  822, 1993,    4,  400, 1854,    6,  728,\n",
      "        1322,  115,  130,   47], device='cuda:0')\n",
      "recall = 1.0\n",
      "precision = 1.0\n",
      "f_05 = 1.0\n"
     ]
    },
    {
     "name": "stderr",
     "output_type": "stream",
     "text": [
      "\n"
     ]
    },
    {
     "name": "stdout",
     "output_type": "stream",
     "text": [
      "recall = 0.6931865811347961\n",
      "precision = 0.7015321254730225\n",
      "accuracy = 0.6931865811347961\n",
      "f_05 = 0.6989005208015442\n"
     ]
    },
    {
     "name": "stderr",
     "output_type": "stream",
     "text": [
      "Validation Bleu Epoch 02:  20%|██        | 20/100 [00:09<00:48,  1.63it/s]"
     ]
    },
    {
     "name": "stdout",
     "output_type": "stream",
     "text": [
      "\n",
      "    SOURCE: cách chúng lam là khi có nhiều con trong khôn gian hẹph , mỗi con tìm kiếm kĩ càng bởi đã cô các con khác ngay bên đang tìm kiếm kiếm , nhưng khi chỉ có ĩt con trên diện rộng , chúng cần giãn để bao được rộng hơn .\n",
      "    TARGET: cách chúng làm là khi có nhiều con trong không gian hẹp , mỗi con tìm kiếm kĩ càng bởi đã có các con khác ngay bên đang tìm kiếm , nhưng khi chỉ có ít con trên diện rộng , chúng cần giãn ra để bao được rộng hơn .\n",
      " PREDICTED: cách chúng làm là khi có nhiều con trong không gian hẹp , mỗi con tìm kiếm kĩ càng bởi đã cô các con khác ngay bên đang tìm kiếm , nhưng khi chỉ có ít con trên diện rộng , chúng cần giãn để bao được rộng hơn .\n",
      "TOKENS TARGET: [['cách', 'chúng', 'làm', 'là', 'khi', 'có', 'nhiều', 'con', 'trong', 'không', 'gian', 'hẹp', ',', 'mỗi', 'con', 'tìm', 'kiếm', 'kĩ', 'càng', 'bởi', 'đã', 'có', 'các', 'con', 'khác', 'ngay', 'bên', 'đang', 'tìm', 'kiếm', ',', 'nhưng', 'khi', 'chỉ', 'có', 'ít', 'con', 'trên', 'diện', 'rộng', ',', 'chúng', 'cần', 'giãn', 'ra', 'để', 'bao', 'được', 'rộng', 'hơn', '.']]\n",
      "TOKENS PREDICTED: ['cách', 'chúng', 'làm', 'là', 'khi', 'có', 'nhiều', 'con', 'trong', 'không', 'gian', 'hẹp', ',', 'mỗi', 'con', 'tìm', 'kiếm', 'kĩ', 'càng', 'bởi', 'đã', 'cô', 'các', 'con', 'khác', 'ngay', 'bên', 'đang', 'tìm', 'kiếm', ',', 'nhưng', 'khi', 'chỉ', 'có', 'ít', 'con', 'trên', 'diện', 'rộng', ',', 'chúng', 'cần', 'giãn', 'để', 'bao', 'được', 'rộng', 'hơn', '.']\n",
      "BLEU OF SENTENCE 20\n",
      "BLEU_1: 0.9605947185364262\n",
      "BLEU_2: 0.9401735817709709\n",
      "BLEU_3: 0.9190076508342233\n",
      "BLEU_4: 0.8970329510150469\n",
      "label_ids = tensor([  57,   11,   31,    8,   41,   10,   60,   64,   19,   14,  190, 1808,\n",
      "           4,  233,   64,  155,  502,  871,  461,  102,   23,   10,   21,   64,\n",
      "          69,  280,  241,   53,  155,  502,    4,   44,   41,   70,   10,  342,\n",
      "          64,   68,  527,  531,    4,   11,  113, 1890,   30,   33,  213,   24,\n",
      "         531,   59,    5], device='cuda:0')\n",
      "pred_ids = tensor([  57,   11,   31,    8,   41,   10,   60,   64,   19,   14,  190, 1808,\n",
      "           4,  233,   64,  155,  502,  871,  461,  102,   23,  160,   21,   64,\n",
      "          69,  280,  241,   53,  155,  502,    4,   44,   41,   70,   10,  342,\n",
      "          64,   68,  527,  531,    4,   11,  113, 1890,   33,  213,   24,  531,\n",
      "          59,    5,    1], device='cuda:0')\n",
      "recall = 0.843137264251709\n",
      "precision = 0.8627451658248901\n",
      "f_05 = 0.8573975563049316\n"
     ]
    },
    {
     "name": "stderr",
     "output_type": "stream",
     "text": [
      "Validation Bleu Epoch 02:  40%|████      | 40/100 [00:18<00:42,  1.40it/s]"
     ]
    },
    {
     "name": "stdout",
     "output_type": "stream",
     "text": [
      "\n",
      "    SOURCE: vậy nên chung tôi bắt đầu cho đi , và bây giờ , sau 30 năm , vợ chồg tôi là những ngườĩ hoàn trả chúng tôi cho đi đi 90 phần trăm sống dựa trên 10 % .\n",
      "    TARGET: vậy nên chúng tôi bắt đầu cho đi , và bây giờ , sau 30 năm , vợ chồng tôi là những người hoàn trả chúng tôi cho đi 90 phần trăm và sống dựa trên 10 % .\n",
      " PREDICTED: vậy nên chúng tôi bắt đầu cho đi , và bây giờ , sau 30 năm , vợ chồng tôi là những người hoàn trả chúng tôi cho đi 90 phần trăm sống dựa trên 10 % .\n",
      "TOKENS TARGET: [['vậy', 'nên', 'chúng', 'tôi', 'bắt', 'đầu', 'cho', 'đi', ',', 'và', 'bây', 'giờ', ',', 'sau', '30', 'năm', ',', 'vợ', 'chồng', 'tôi', 'là', 'những', 'người', 'hoàn', 'trả', 'chúng', 'tôi', 'cho', 'đi', '90', 'phần', 'trăm', 'và', 'sống', 'dựa', 'trên', '10', '%', '.']]\n",
      "TOKENS PREDICTED: ['vậy', 'nên', 'chúng', 'tôi', 'bắt', 'đầu', 'cho', 'đi', ',', 'và', 'bây', 'giờ', ',', 'sau', '30', 'năm', ',', 'vợ', 'chồng', 'tôi', 'là', 'những', 'người', 'hoàn', 'trả', 'chúng', 'tôi', 'cho', 'đi', '90', 'phần', 'trăm', 'sống', 'dựa', 'trên', '10', '%', '.']\n",
      "BLEU OF SENTENCE 40\n",
      "BLEU_1: 0.9740274534203012\n",
      "BLEU_2: 0.9607747662732108\n",
      "BLEU_3: 0.9469570146241113\n",
      "BLEU_4: 0.932526069584462\n",
      "label_ids = tensor([  71,   87,   11,    7,  121,   62,   27,   79,    4,    6,  240,   96,\n",
      "           4,  110,  720,   74,    4, 1053, 1070,    7,    8,   12,   18,  230,\n",
      "         315,   11,    7,   27,   79, 1217,  144,  508,    6,  106,  681,   68,\n",
      "         456,  445,    5], device='cuda:0')\n",
      "pred_ids = tensor([  71,   87,   11,    7,  121,   62,   27,   79,    4,    6,  240,   96,\n",
      "           4,  110,  720,   74,    4, 1053, 1070,    7,    8,   12,   18,  230,\n",
      "         315,   11,    7,   27,   79, 1217,  144,  508,  106,  681,   68,  456,\n",
      "         445,    5,    1], device='cuda:0')\n",
      "recall = 0.8205128908157349\n",
      "precision = 0.8461538553237915\n",
      "f_05 = 0.8376069068908691\n"
     ]
    },
    {
     "name": "stderr",
     "output_type": "stream",
     "text": [
      "Validation Bleu Epoch 02:  60%|██████    | 60/100 [00:26<00:23,  1.70it/s]"
     ]
    },
    {
     "name": "stdout",
     "output_type": "stream",
     "text": [
      "\n",
      "    SOURCE: họ đã thiết kế một hệ thống bền vữg đến nỗi nó vẫn tồn tại với chúng ta cho đến hôm nay , tiếp tuc tạo ra những những con người tương tự nhau một bộ máy đã không còn tồn tạị .\n",
      "    TARGET: họ đã thiết kế một hệ thống bền vững đến nỗi nó vẫn tồn tại với chúng ta cho đến hôm nay , tiếp tục tạo ra những con người tương tự nhau cho một bộ máy đã không còn tồn tại .\n",
      " PREDICTED: họ đã thiết kế một hệ thống bền vững đến nỗi nó vẫn tồn tại với chúng ta cho đến hôm nay , tiếp tục tạo ra những con người tương tự nhau một bộ máy đã không còn tồn tại .\n",
      "TOKENS TARGET: [['họ', 'đã', 'thiết', 'kế', 'một', 'hệ', 'thống', 'bền', 'vững', 'đến', 'nỗi', 'nó', 'vẫn', 'tồn', 'tại', 'với', 'chúng', 'ta', 'cho', 'đến', 'hôm', 'nay', ',', 'tiếp', 'tục', 'tạo', 'ra', 'những', 'con', 'người', 'tương', 'tự', 'nhau', 'cho', 'một', 'bộ', 'máy', 'đã', 'không', 'còn', 'tồn', 'tại', '.']]\n",
      "TOKENS PREDICTED: ['họ', 'đã', 'thiết', 'kế', 'một', 'hệ', 'thống', 'bền', 'vững', 'đến', 'nỗi', 'nó', 'vẫn', 'tồn', 'tại', 'với', 'chúng', 'ta', 'cho', 'đến', 'hôm', 'nay', ',', 'tiếp', 'tục', 'tạo', 'ra', 'những', 'con', 'người', 'tương', 'tự', 'nhau', 'một', 'bộ', 'máy', 'đã', 'không', 'còn', 'tồn', 'tại', '.']\n",
      "BLEU OF SENTENCE 60\n",
      "BLEU_1: 0.9764716866522433\n",
      "BLEU_2: 0.964489997268898\n",
      "BLEU_3: 0.9520496159689376\n",
      "BLEU_4: 0.9391156214035523\n",
      "label_ids = tensor([  40,   23,  186,  264,    9,  161,  220, 1040,  982,   45,  736,   26,\n",
      "         238,  522,   92,   25,   11,   15,   27,   45,  424,  217,    4,  179,\n",
      "         465,   94,   30,   12,   64,   18,  226,  116,  157,   27,    9,  135,\n",
      "         175,   23,   14,  114,  522,   92,    5], device='cuda:0')\n",
      "pred_ids = tensor([  40,   23,  186,  264,    9,  161,  220, 1040,  982,   45,  736,   26,\n",
      "         238,  522,   92,   25,   11,   15,   27,   45,  424,  217,    4,  179,\n",
      "         465,   94,   30,   12,   64,   18,  226,  116,  157,    9,  135,  175,\n",
      "          23,   14,  114,  522,   92,    5,    1], device='cuda:0')\n",
      "recall = 0.7674418687820435\n",
      "precision = 0.7906976938247681\n",
      "f_05 = 0.7829457521438599\n"
     ]
    },
    {
     "name": "stderr",
     "output_type": "stream",
     "text": [
      "Validation Bleu Epoch 02:  80%|████████  | 80/100 [00:36<00:11,  1.77it/s]"
     ]
    },
    {
     "name": "stdout",
     "output_type": "stream",
     "text": [
      "\n",
      "    SOURCE: cô gái đó ở anh , và cô ấy sống -- đã sống để kể về bản thân -- về những gi mà cô ấy đã trải qua .\n",
      "    TARGET: cô gái đó ở anh , và cô ấy sống -- đã sống để kể về bản thân -- về những gì mà cô ấy đã trải qua .\n",
      " PREDICTED: cô gái đó ở anh , và cô ấy sống -- đã sống để kể về bản thân -- về những gì mà cô ấy đã trải qua .\n",
      "TOKENS TARGET: [['cô', 'gái', 'đó', 'ở', 'anh', ',', 'và', 'cô', 'ấy', 'sống', '--', 'đã', 'sống', 'để', 'kể', 'về', 'bản', 'thân', '--', 'về', 'những', 'gì', 'mà', 'cô', 'ấy', 'đã', 'trải', 'qua', '.']]\n",
      "TOKENS PREDICTED: ['cô', 'gái', 'đó', 'ở', 'anh', ',', 'và', 'cô', 'ấy', 'sống', '--', 'đã', 'sống', 'để', 'kể', 'về', 'bản', 'thân', '--', 'về', 'những', 'gì', 'mà', 'cô', 'ấy', 'đã', 'trải', 'qua', '.']\n",
      "BLEU OF SENTENCE 80\n",
      "BLEU_1: 1.0\n",
      "BLEU_2: 1.0\n",
      "BLEU_3: 1.0\n",
      "BLEU_4: 1.0\n",
      "label_ids = tensor([160, 583,  17,  32,  89,   4,   6, 160, 122, 106,  75,  23, 106,  33,\n",
      "        327,  37, 127, 332,  75,  37,  12,  54,  35, 160, 122,  23, 520, 142,\n",
      "          5], device='cuda:0')\n",
      "pred_ids = tensor([160, 583,  17,  32,  89,   4,   6, 160, 122, 106,  75,  23, 106,  33,\n",
      "        327,  37, 127, 332,  75,  37,  12,  54,  35, 160, 122,  23, 520, 142,\n",
      "          5], device='cuda:0')\n",
      "recall = 1.0\n",
      "precision = 1.0\n",
      "f_05 = 1.0\n"
     ]
    },
    {
     "name": "stderr",
     "output_type": "stream",
     "text": [
      "Validation Bleu Epoch 02: 100%|██████████| 100/100 [00:43<00:00,  2.28it/s]"
     ]
    },
    {
     "name": "stdout",
     "output_type": "stream",
     "text": [
      "\n",
      "    SOURCE: điểm mấự chốt ở đây là những quyền ưu tiên đó .\n",
      "    TARGET: điểm mấu chốt ở đây là những quyền ưu tiên đó .\n",
      " PREDICTED: điểm mấu chốt ở đây là những quyền ưu tiên đó .\n",
      "TOKENS TARGET: [['điểm', 'mấu', 'chốt', 'ở', 'đây', 'là', 'những', 'quyền', 'ưu', 'tiên', 'đó', '.']]\n",
      "TOKENS PREDICTED: ['điểm', 'mấu', 'chốt', 'ở', 'đây', 'là', 'những', 'quyền', 'ưu', 'tiên', 'đó', '.']\n",
      "BLEU OF SENTENCE 100\n",
      "BLEU_1: 1.0\n",
      "BLEU_2: 1.0\n",
      "BLEU_3: 1.0\n",
      "BLEU_4: 1.0\n",
      "label_ids = tensor([ 222, 1750, 1310,   32,   43,    8,   12,  382, 1174,  211,   17,    5],\n",
      "       device='cuda:0')\n",
      "pred_ids = tensor([ 222, 1750, 1310,   32,   43,    8,   12,  382, 1174,  211,   17,    5],\n",
      "       device='cuda:0')\n",
      "recall = 1.0\n",
      "precision = 1.0\n",
      "f_05 = 1.0\n"
     ]
    },
    {
     "name": "stderr",
     "output_type": "stream",
     "text": [
      "\n"
     ]
    },
    {
     "name": "stdout",
     "output_type": "stream",
     "text": [
      "recall = 0.729411780834198\n",
      "precision = 0.7362892627716064\n",
      "accuracy = 0.729411780834198\n",
      "f_05 = 0.7339901328086853\n",
      "bleu_1_train: 0.9604775581162391 - bleu_1_val: 0.9588099162740933\n",
      "bleu_2_train: 0.9435938907767195 - bleu_2_val: 0.938373449852187\n",
      "bleu_3_train: 0.9272420578764796 - bleu_3_val: 0.9188698656878104\n",
      "bleu_4_train: 0.9105260581570848 - bleu_4_val: 0.8998018765485379\n",
      "sum_recall_train = 0.729411780834198\n",
      "sum_recall_val = 0.6931865811347961\n",
      "sum_precision_train = 0.7362892627716064\n",
      "sum_precision_val = 0.7015321254730225\n",
      "sum_f_05_train = 0.7339901328086853\n",
      "sum_f_05_val = 0.6989005208015442\n",
      "sum_accuracy_train = 0.729411780834198\n",
      "sum_accuracy_val = 0.6931865811347961\n",
      "Mean train loss: 1.6247883320831862\n",
      "Mean validation loss: 1.5893283194933243\n",
      "Đã lưu cấu hình tại epoch 2\n",
      "\n",
      "lr = 0.0002108792526507594\n"
     ]
    },
    {
     "name": "stderr",
     "output_type": "stream",
     "text": [
      "Processing Epoch 03: 100%|██████████| 3660/3660 [09:45<00:00,  6.25it/s, loss=1.618]\n",
      "Validation Loss Epoch 03: 100%|██████████| 407/407 [00:24<00:00, 16.72it/s, loss=1.616]\n",
      "Validation Bleu Epoch 03:  20%|██        | 20/100 [00:08<00:30,  2.65it/s]"
     ]
    },
    {
     "name": "stdout",
     "output_type": "stream",
     "text": [
      "\n",
      "    SOURCE: như như vậy chúng tôi đang tiến xa hơn mốc 12 bay giây .\n",
      "    TARGET: như vậy chúng tôi đang tiến xa hơn mốc 12 bay giây .\n",
      " PREDICTED: như vậy chúng tôi đang tiến xa hơn mốc 12 bay giây .\n",
      "TOKENS TARGET: [['như', 'vậy', 'chúng', 'tôi', 'đang', 'tiến', 'xa', 'hơn', 'mốc', '12', 'bay', 'giây', '.']]\n",
      "TOKENS PREDICTED: ['như', 'vậy', 'chúng', 'tôi', 'đang', 'tiến', 'xa', 'hơn', 'mốc', '12', 'bay', 'giây', '.']\n",
      "BLEU OF SENTENCE 20\n",
      "BLEU_1: 1.0\n",
      "BLEU_2: 1.0\n",
      "BLEU_3: 1.0\n",
      "BLEU_4: 1.0\n",
      "label_ids = tensor([  36,   71,   11,    7,   53,  271,  467,   59, 2299,  967,  437,  845,\n",
      "           5], device='cuda:0')\n",
      "pred_ids = tensor([  36,   71,   11,    7,   53,  271,  467,   59, 2299,  967,  437,  845,\n",
      "           5], device='cuda:0')\n",
      "recall = 1.0\n",
      "precision = 1.0\n",
      "f_05 = 1.0\n"
     ]
    },
    {
     "name": "stderr",
     "output_type": "stream",
     "text": [
      "Validation Bleu Epoch 03:  40%|████      | 40/100 [00:17<00:28,  2.08it/s]"
     ]
    },
    {
     "name": "stdout",
     "output_type": "stream",
     "text": [
      "\n",
      "    SOURCE: lhờ vậy các doanh nghiệp cũng dần thoát khỏi những nợ nần .\n",
      "    TARGET: nhờ vậy các doanh nghiệp cũng dần thoát khỏi những nợ nần .\n",
      " PREDICTED: nhờ vậy các doanh nghiệp cũng dần thoát khỏi những nợ lần .\n",
      "TOKENS TARGET: [['nhờ', 'vậy', 'các', 'doanh', 'nghiệp', 'cũng', 'dần', 'thoát', 'khỏi', 'những', 'nợ', 'nần', '.']]\n",
      "TOKENS PREDICTED: ['nhờ', 'vậy', 'các', 'doanh', 'nghiệp', 'cũng', 'dần', 'thoát', 'khỏi', 'những', 'nợ', 'lần', '.']\n",
      "BLEU OF SENTENCE 40\n",
      "BLEU_1: 0.9230769276618958\n",
      "BLEU_2: 0.8770580291748047\n",
      "BLEU_3: 0.856976330280304\n",
      "BLEU_4: 0.8423627018928528\n",
      "label_ids = tensor([ 767,   71,   21,  597,  347,   82,  710, 1086,  408,   12, 1758, 5266,\n",
      "           5], device='cuda:0')\n",
      "pred_ids = tensor([ 767,   71,   21,  597,  347,   82,  710, 1086,  408,   12, 1758,  208,\n",
      "           5], device='cuda:0')\n",
      "recall = 0.9230769872665405\n",
      "precision = 0.9230769872665405\n",
      "f_05 = 0.9230769872665405\n"
     ]
    },
    {
     "name": "stderr",
     "output_type": "stream",
     "text": [
      "Validation Bleu Epoch 03:  60%|██████    | 60/100 [00:25<00:15,  2.60it/s]"
     ]
    },
    {
     "name": "stdout",
     "output_type": "stream",
     "text": [
      "\n",
      "    SOURCE: tôi đem xe đạp đến tiệm-- tôi thích nó -- xe cu , và anh thợ \" chỉnh sửa \" lại vị trí bánh xe .\n",
      "    TARGET: tôi đem xe đạp đến tiệm-- tôi thích nó -- xe cũ , và anh thợ \" chỉnh sửa \" lại vị trí bánh xe .\n",
      " PREDICTED: tôi đem xe đạp đến tiệm -- tôi thích nó -- xe cứ , và anh thợ \" chỉnh sửa \" lại vị trí bánh xe .\n",
      "TOKENS TARGET: [['tôi', 'đem', 'xe', 'đạp', 'đến', 'tiệm', '--', 'tôi', 'thích', 'nó', '--', 'xe', 'cũ', ',', 'và', 'anh', 'thợ', '\"', 'chỉnh', 'sửa', '\"', 'lại', 'vị', 'trí', 'bánh', 'xe', '.']]\n",
      "TOKENS PREDICTED: ['tôi', 'đem', 'xe', 'đạp', 'đến', 'tiệm', '--', 'tôi', 'thích', 'nó', '--', 'xe', 'cứ', ',', 'và', 'anh', 'thợ', '\"', 'chỉnh', 'sửa', '\"', 'lại', 'vị', 'trí', 'bánh', 'xe', '.']\n",
      "BLEU OF SENTENCE 60\n",
      "BLEU_1: 0.9629629850387573\n",
      "BLEU_2: 0.9428090453147888\n",
      "BLEU_3: 0.9213897585868835\n",
      "BLEU_4: 0.8985396027565002\n",
      "label_ids = tensor([   7,  840,  285, 1198,   45, 2196,   75,    7,  196,   26,   75,  285,\n",
      "         975,    4,    6,   89, 1483,   28,  891,  979,   28,   55,  197,  360,\n",
      "         694,  285,    5], device='cuda:0')\n",
      "pred_ids = tensor([   7,  840,  285, 1198,   45, 2196,   75,    7,  196,   26,   75,  285,\n",
      "         318,    4,    6,   89, 1483,   28,  891,  979,   28,   55,  197,  360,\n",
      "         694,  285,    5], device='cuda:0')\n",
      "recall = 0.9629629850387573\n",
      "precision = 0.9629629850387573\n",
      "f_05 = 0.9629629850387573\n"
     ]
    },
    {
     "name": "stderr",
     "output_type": "stream",
     "text": [
      "Validation Bleu Epoch 03:  80%|████████  | 80/100 [00:37<00:12,  1.56it/s]"
     ]
    },
    {
     "name": "stdout",
     "output_type": "stream",
     "text": [
      "\n",
      "    SOURCE: melinda , đây là khi nào và ở đâu vậy ? người đàn ông đẹp trai cạnh trị là ai vậy ?\n",
      "    TARGET: melinda , đây là khi nào và ở đâu vậy ? người đàn ông đẹp trai cạnh chị là ai vậy ?\n",
      " PREDICTED: melinda , đây là khi nào và ở đâu vậy ? người đàn ông đẹp trai cạnh trị là ai vậy ?\n",
      "TOKENS TARGET: [['melinda', ',', 'đây', 'là', 'khi', 'nào', 'và', 'ở', 'đâu', 'vậy', '?', 'người', 'đàn', 'ông', 'đẹp', 'trai', 'cạnh', 'chị', 'là', 'ai', 'vậy', '?']]\n",
      "TOKENS PREDICTED: ['melinda', ',', 'đây', 'là', 'khi', 'nào', 'và', 'ở', 'đâu', 'vậy', '?', 'người', 'đàn', 'ông', 'đẹp', 'trai', 'cạnh', 'trị', 'là', 'ai', 'vậy', '?']\n",
      "BLEU OF SENTENCE 80\n",
      "BLEU_1: 0.9545454382896423\n",
      "BLEU_2: 0.9293203949928284\n",
      "BLEU_3: 0.9020901918411255\n",
      "BLEU_4: 0.872512936592102\n",
      "label_ids = tensor([3529,    4,   43,    8,   41,   72,    6,   32,  378,   71,   47,   18,\n",
      "         448,   99,  460,  684,  644,  798,    8,  184,   71,   47],\n",
      "       device='cuda:0')\n",
      "pred_ids = tensor([3529,    4,   43,    8,   41,   72,    6,   32,  378,   71,   47,   18,\n",
      "         448,   99,  460,  684,  644,  255,    8,  184,   71,   47],\n",
      "       device='cuda:0')\n",
      "recall = 0.9545454978942871\n",
      "precision = 0.9545454978942871\n",
      "f_05 = 0.9545454978942871\n"
     ]
    },
    {
     "name": "stderr",
     "output_type": "stream",
     "text": [
      "Validation Bleu Epoch 03: 100%|██████████| 100/100 [00:45<00:00,  2.18it/s]"
     ]
    },
    {
     "name": "stdout",
     "output_type": "stream",
     "text": [
      "\n",
      "    SOURCE: vậy còn các công ty khai khoáng , khí ga ga và dầu mỏ thì sao ?\n",
      "    TARGET: vậy còn các công ty khai khoáng , khí ga và dầu mỏ thì sao ?\n",
      " PREDICTED: vậy còn các công ty khai khoáng , khí ga và dầu mỏ thì sao ?\n",
      "TOKENS TARGET: [['vậy', 'còn', 'các', 'công', 'ty', 'khai', 'khoáng', ',', 'khí', 'ga', 'và', 'dầu', 'mỏ', 'thì', 'sao', '?']]\n",
      "TOKENS PREDICTED: ['vậy', 'còn', 'các', 'công', 'ty', 'khai', 'khoáng', ',', 'khí', 'ga', 'và', 'dầu', 'mỏ', 'thì', 'sao', '?']\n",
      "BLEU OF SENTENCE 100\n",
      "BLEU_1: 1.0\n",
      "BLEU_2: 1.0\n",
      "BLEU_3: 1.0\n",
      "BLEU_4: 1.0\n",
      "label_ids = tensor([  71,  114,   21,   67,  505,  822, 1993,    4,  400, 1854,    6,  728,\n",
      "        1322,  115,  130,   47], device='cuda:0')\n",
      "pred_ids = tensor([  71,  114,   21,   67,  505,  822, 1993,    4,  400, 1854,    6,  728,\n",
      "        1322,  115,  130,   47], device='cuda:0')\n",
      "recall = 1.0\n",
      "precision = 1.0\n",
      "f_05 = 1.0\n"
     ]
    },
    {
     "name": "stderr",
     "output_type": "stream",
     "text": [
      "\n"
     ]
    },
    {
     "name": "stdout",
     "output_type": "stream",
     "text": [
      "recall = 0.709691047668457\n",
      "precision = 0.718753457069397\n",
      "accuracy = 0.709691047668457\n",
      "f_05 = 0.7161191701889038\n"
     ]
    },
    {
     "name": "stderr",
     "output_type": "stream",
     "text": [
      "Validation Bleu Epoch 03:  20%|██        | 20/100 [00:09<00:48,  1.63it/s]"
     ]
    },
    {
     "name": "stdout",
     "output_type": "stream",
     "text": [
      "\n",
      "    SOURCE: cách chúng lam là khi có nhiều con trong khôn gian hẹph , mỗi con tìm kiếm kĩ càng bởi đã cô các con khác ngay bên đang tìm kiếm kiếm , nhưng khi chỉ có ĩt con trên diện rộng , chúng cần giãn để bao được rộng hơn .\n",
      "    TARGET: cách chúng làm là khi có nhiều con trong không gian hẹp , mỗi con tìm kiếm kĩ càng bởi đã có các con khác ngay bên đang tìm kiếm , nhưng khi chỉ có ít con trên diện rộng , chúng cần giãn ra để bao được rộng hơn .\n",
      " PREDICTED: cách chúng làm là khi có nhiều con trong không gian hẹp , mỗi con tìm kiếm kĩ càng bởi đã có các con khác ngay bên đang tìm kiếm , nhưng khi chỉ có ít con trên diện rộng , chúng cần giãn để bao được rộng hơn .\n",
      "TOKENS TARGET: [['cách', 'chúng', 'làm', 'là', 'khi', 'có', 'nhiều', 'con', 'trong', 'không', 'gian', 'hẹp', ',', 'mỗi', 'con', 'tìm', 'kiếm', 'kĩ', 'càng', 'bởi', 'đã', 'có', 'các', 'con', 'khác', 'ngay', 'bên', 'đang', 'tìm', 'kiếm', ',', 'nhưng', 'khi', 'chỉ', 'có', 'ít', 'con', 'trên', 'diện', 'rộng', ',', 'chúng', 'cần', 'giãn', 'ra', 'để', 'bao', 'được', 'rộng', 'hơn', '.']]\n",
      "TOKENS PREDICTED: ['cách', 'chúng', 'làm', 'là', 'khi', 'có', 'nhiều', 'con', 'trong', 'không', 'gian', 'hẹp', ',', 'mỗi', 'con', 'tìm', 'kiếm', 'kĩ', 'càng', 'bởi', 'đã', 'có', 'các', 'con', 'khác', 'ngay', 'bên', 'đang', 'tìm', 'kiếm', ',', 'nhưng', 'khi', 'chỉ', 'có', 'ít', 'con', 'trên', 'diện', 'rộng', ',', 'chúng', 'cần', 'giãn', 'để', 'bao', 'được', 'rộng', 'hơn', '.']\n",
      "BLEU OF SENTENCE 20\n",
      "BLEU_1: 0.9801986733067553\n",
      "BLEU_2: 0.9701451204821817\n",
      "BLEU_3: 0.959771869375108\n",
      "BLEU_4: 0.9490591141160591\n",
      "label_ids = tensor([  57,   11,   31,    8,   41,   10,   60,   64,   19,   14,  190, 1808,\n",
      "           4,  233,   64,  155,  502,  871,  461,  102,   23,   10,   21,   64,\n",
      "          69,  280,  241,   53,  155,  502,    4,   44,   41,   70,   10,  342,\n",
      "          64,   68,  527,  531,    4,   11,  113, 1890,   30,   33,  213,   24,\n",
      "         531,   59,    5], device='cuda:0')\n",
      "pred_ids = tensor([  57,   11,   31,    8,   41,   10,   60,   64,   19,   14,  190, 1808,\n",
      "           4,  233,   64,  155,  502,  871,  461,  102,   23,   10,   21,   64,\n",
      "          69,  280,  241,   53,  155,  502,    4,   44,   41,   70,   10,  342,\n",
      "          64,   68,  527,  531,    4,   11,  113, 1890,   33,  213,   24,  531,\n",
      "          59,    5,    1], device='cuda:0')\n",
      "recall = 0.8627451658248901\n",
      "precision = 0.8627451658248901\n",
      "f_05 = 0.8627451658248901\n"
     ]
    },
    {
     "name": "stderr",
     "output_type": "stream",
     "text": [
      "Validation Bleu Epoch 03:  40%|████      | 40/100 [00:19<00:46,  1.30it/s]"
     ]
    },
    {
     "name": "stdout",
     "output_type": "stream",
     "text": [
      "\n",
      "    SOURCE: vậy nên chung tôi bắt đầu cho đi , và bây giờ , sau 30 năm , vợ chồg tôi là những ngườĩ hoàn trả chúng tôi cho đi đi 90 phần trăm sống dựa trên 10 % .\n",
      "    TARGET: vậy nên chúng tôi bắt đầu cho đi , và bây giờ , sau 30 năm , vợ chồng tôi là những người hoàn trả chúng tôi cho đi 90 phần trăm và sống dựa trên 10 % .\n",
      " PREDICTED: vậy nên chúng tôi bắt đầu cho đi , và bây giờ , sau 30 năm , vợ chồng tôi là những người hoàn trả chúng tôi cho đi 90 phần trăm sống dựa trên 10 % .\n",
      "TOKENS TARGET: [['vậy', 'nên', 'chúng', 'tôi', 'bắt', 'đầu', 'cho', 'đi', ',', 'và', 'bây', 'giờ', ',', 'sau', '30', 'năm', ',', 'vợ', 'chồng', 'tôi', 'là', 'những', 'người', 'hoàn', 'trả', 'chúng', 'tôi', 'cho', 'đi', '90', 'phần', 'trăm', 'và', 'sống', 'dựa', 'trên', '10', '%', '.']]\n",
      "TOKENS PREDICTED: ['vậy', 'nên', 'chúng', 'tôi', 'bắt', 'đầu', 'cho', 'đi', ',', 'và', 'bây', 'giờ', ',', 'sau', '30', 'năm', ',', 'vợ', 'chồng', 'tôi', 'là', 'những', 'người', 'hoàn', 'trả', 'chúng', 'tôi', 'cho', 'đi', '90', 'phần', 'trăm', 'sống', 'dựa', 'trên', '10', '%', '.']\n",
      "BLEU OF SENTENCE 40\n",
      "BLEU_1: 0.9740274534203012\n",
      "BLEU_2: 0.9607747662732108\n",
      "BLEU_3: 0.9469570146241113\n",
      "BLEU_4: 0.932526069584462\n",
      "label_ids = tensor([  71,   87,   11,    7,  121,   62,   27,   79,    4,    6,  240,   96,\n",
      "           4,  110,  720,   74,    4, 1053, 1070,    7,    8,   12,   18,  230,\n",
      "         315,   11,    7,   27,   79, 1217,  144,  508,    6,  106,  681,   68,\n",
      "         456,  445,    5], device='cuda:0')\n",
      "pred_ids = tensor([  71,   87,   11,    7,  121,   62,   27,   79,    4,    6,  240,   96,\n",
      "           4,  110,  720,   74,    4, 1053, 1070,    7,    8,   12,   18,  230,\n",
      "         315,   11,    7,   27,   79, 1217,  144,  508,  106,  681,   68,  456,\n",
      "         445,    5,    1], device='cuda:0')\n",
      "recall = 0.8205128908157349\n",
      "precision = 0.8461538553237915\n",
      "f_05 = 0.8376069068908691\n"
     ]
    },
    {
     "name": "stderr",
     "output_type": "stream",
     "text": [
      "Validation Bleu Epoch 03:  60%|██████    | 60/100 [00:28<00:24,  1.65it/s]"
     ]
    },
    {
     "name": "stdout",
     "output_type": "stream",
     "text": [
      "\n",
      "    SOURCE: họ đã thiết kế một hệ thống bền vữg đến nỗi nó vẫn tồn tại với chúng ta cho đến hôm nay , tiếp tuc tạo ra những những con người tương tự nhau một bộ máy đã không còn tồn tạị .\n",
      "    TARGET: họ đã thiết kế một hệ thống bền vững đến nỗi nó vẫn tồn tại với chúng ta cho đến hôm nay , tiếp tục tạo ra những con người tương tự nhau cho một bộ máy đã không còn tồn tại .\n",
      " PREDICTED: họ đã thiết kế một hệ thống bền vững đến nỗi nó vẫn tồn tại với chúng ta cho đến hôm nay , tiếp tục tạo ra những con người tương tự nhau một bộ máy đã không còn tồn tại .\n",
      "TOKENS TARGET: [['họ', 'đã', 'thiết', 'kế', 'một', 'hệ', 'thống', 'bền', 'vững', 'đến', 'nỗi', 'nó', 'vẫn', 'tồn', 'tại', 'với', 'chúng', 'ta', 'cho', 'đến', 'hôm', 'nay', ',', 'tiếp', 'tục', 'tạo', 'ra', 'những', 'con', 'người', 'tương', 'tự', 'nhau', 'cho', 'một', 'bộ', 'máy', 'đã', 'không', 'còn', 'tồn', 'tại', '.']]\n",
      "TOKENS PREDICTED: ['họ', 'đã', 'thiết', 'kế', 'một', 'hệ', 'thống', 'bền', 'vững', 'đến', 'nỗi', 'nó', 'vẫn', 'tồn', 'tại', 'với', 'chúng', 'ta', 'cho', 'đến', 'hôm', 'nay', ',', 'tiếp', 'tục', 'tạo', 'ra', 'những', 'con', 'người', 'tương', 'tự', 'nhau', 'một', 'bộ', 'máy', 'đã', 'không', 'còn', 'tồn', 'tại', '.']\n",
      "BLEU OF SENTENCE 60\n",
      "BLEU_1: 0.9764716866522433\n",
      "BLEU_2: 0.964489997268898\n",
      "BLEU_3: 0.9520496159689376\n",
      "BLEU_4: 0.9391156214035523\n",
      "label_ids = tensor([  40,   23,  186,  264,    9,  161,  220, 1040,  982,   45,  736,   26,\n",
      "         238,  522,   92,   25,   11,   15,   27,   45,  424,  217,    4,  179,\n",
      "         465,   94,   30,   12,   64,   18,  226,  116,  157,   27,    9,  135,\n",
      "         175,   23,   14,  114,  522,   92,    5], device='cuda:0')\n",
      "pred_ids = tensor([  40,   23,  186,  264,    9,  161,  220, 1040,  982,   45,  736,   26,\n",
      "         238,  522,   92,   25,   11,   15,   27,   45,  424,  217,    4,  179,\n",
      "         465,   94,   30,   12,   64,   18,  226,  116,  157,    9,  135,  175,\n",
      "          23,   14,  114,  522,   92,    5,    1], device='cuda:0')\n",
      "recall = 0.7674418687820435\n",
      "precision = 0.7906976938247681\n",
      "f_05 = 0.7829457521438599\n"
     ]
    },
    {
     "name": "stderr",
     "output_type": "stream",
     "text": [
      "Validation Bleu Epoch 03:  80%|████████  | 80/100 [00:38<00:12,  1.65it/s]"
     ]
    },
    {
     "name": "stdout",
     "output_type": "stream",
     "text": [
      "\n",
      "    SOURCE: cô gái đó ở anh , và cô ấy sống -- đã sống để kể về bản thân -- về những gi mà cô ấy đã trải qua .\n",
      "    TARGET: cô gái đó ở anh , và cô ấy sống -- đã sống để kể về bản thân -- về những gì mà cô ấy đã trải qua .\n",
      " PREDICTED: cô gái đó ở anh , và cô ấy sống -- đã sống để kể về bản thân -- về những gì mà cô ấy đã trải qua .\n",
      "TOKENS TARGET: [['cô', 'gái', 'đó', 'ở', 'anh', ',', 'và', 'cô', 'ấy', 'sống', '--', 'đã', 'sống', 'để', 'kể', 'về', 'bản', 'thân', '--', 'về', 'những', 'gì', 'mà', 'cô', 'ấy', 'đã', 'trải', 'qua', '.']]\n",
      "TOKENS PREDICTED: ['cô', 'gái', 'đó', 'ở', 'anh', ',', 'và', 'cô', 'ấy', 'sống', '--', 'đã', 'sống', 'để', 'kể', 'về', 'bản', 'thân', '--', 'về', 'những', 'gì', 'mà', 'cô', 'ấy', 'đã', 'trải', 'qua', '.']\n",
      "BLEU OF SENTENCE 80\n",
      "BLEU_1: 1.0\n",
      "BLEU_2: 1.0\n",
      "BLEU_3: 1.0\n",
      "BLEU_4: 1.0\n",
      "label_ids = tensor([160, 583,  17,  32,  89,   4,   6, 160, 122, 106,  75,  23, 106,  33,\n",
      "        327,  37, 127, 332,  75,  37,  12,  54,  35, 160, 122,  23, 520, 142,\n",
      "          5], device='cuda:0')\n",
      "pred_ids = tensor([160, 583,  17,  32,  89,   4,   6, 160, 122, 106,  75,  23, 106,  33,\n",
      "        327,  37, 127, 332,  75,  37,  12,  54,  35, 160, 122,  23, 520, 142,\n",
      "          5], device='cuda:0')\n",
      "recall = 1.0\n",
      "precision = 1.0\n",
      "f_05 = 1.0\n"
     ]
    },
    {
     "name": "stderr",
     "output_type": "stream",
     "text": [
      "Validation Bleu Epoch 03: 100%|██████████| 100/100 [00:46<00:00,  2.16it/s]"
     ]
    },
    {
     "name": "stdout",
     "output_type": "stream",
     "text": [
      "\n",
      "    SOURCE: điểm mấự chốt ở đây là những quyền ưu tiên đó .\n",
      "    TARGET: điểm mấu chốt ở đây là những quyền ưu tiên đó .\n",
      " PREDICTED: điểm mấu chốt ở đây là những quyền ưu tiên đó .\n",
      "TOKENS TARGET: [['điểm', 'mấu', 'chốt', 'ở', 'đây', 'là', 'những', 'quyền', 'ưu', 'tiên', 'đó', '.']]\n",
      "TOKENS PREDICTED: ['điểm', 'mấu', 'chốt', 'ở', 'đây', 'là', 'những', 'quyền', 'ưu', 'tiên', 'đó', '.']\n",
      "BLEU OF SENTENCE 100\n",
      "BLEU_1: 1.0\n",
      "BLEU_2: 1.0\n",
      "BLEU_3: 1.0\n",
      "BLEU_4: 1.0\n",
      "label_ids = tensor([ 222, 1750, 1310,   32,   43,    8,   12,  382, 1174,  211,   17,    5],\n",
      "       device='cuda:0')\n",
      "pred_ids = tensor([ 222, 1750, 1310,   32,   43,    8,   12,  382, 1174,  211,   17,    5],\n",
      "       device='cuda:0')\n",
      "recall = 1.0\n",
      "precision = 1.0\n",
      "f_05 = 1.0\n"
     ]
    },
    {
     "name": "stderr",
     "output_type": "stream",
     "text": [
      "\n"
     ]
    },
    {
     "name": "stdout",
     "output_type": "stream",
     "text": [
      "recall = 0.7338742613792419\n",
      "precision = 0.7410169243812561\n",
      "accuracy = 0.7338742613792419\n",
      "f_05 = 0.7386646270751953\n",
      "bleu_1_train: 0.9637444232604333 - bleu_1_val: 0.9540187514415702\n",
      "bleu_2_train: 0.9484127082475348 - bleu_2_val: 0.9354286260039744\n",
      "bleu_3_train: 0.9332694842484065 - bleu_3_val: 0.9177445215004463\n",
      "bleu_4_train: 0.9182254537184698 - bleu_4_val: 0.9005928948195407\n",
      "sum_recall_train = 0.7338742613792419\n",
      "sum_recall_val = 0.709691047668457\n",
      "sum_precision_train = 0.7410169243812561\n",
      "sum_precision_val = 0.718753457069397\n",
      "sum_f_05_train = 0.7386646270751953\n",
      "sum_f_05_val = 0.7161191701889038\n",
      "sum_accuracy_train = 0.7338742613792419\n",
      "sum_accuracy_val = 0.709691047668457\n",
      "Mean train loss: 1.5731349934645689\n",
      "Mean validation loss: 1.566602778961969\n",
      "Đã lưu cấu hình tại epoch 3\n",
      "\n",
      "lr = 0.00018262678992663454\n"
     ]
    },
    {
     "name": "stderr",
     "output_type": "stream",
     "text": [
      "Processing Epoch 04: 100%|██████████| 3660/3660 [09:50<00:00,  6.20it/s, loss=1.662]\n",
      "Validation Loss Epoch 04: 100%|██████████| 407/407 [00:24<00:00, 16.78it/s, loss=1.624]\n",
      "Validation Bleu Epoch 04:  20%|██        | 20/100 [00:07<00:29,  2.74it/s]"
     ]
    },
    {
     "name": "stdout",
     "output_type": "stream",
     "text": [
      "\n",
      "    SOURCE: như như vậy chúng tôi đang tiến xa hơn mốc 12 bay giây .\n",
      "    TARGET: như vậy chúng tôi đang tiến xa hơn mốc 12 bay giây .\n",
      " PREDICTED: như vậy chúng tôi đang tiến xa hơn mốc 12 bay giây .\n",
      "TOKENS TARGET: [['như', 'vậy', 'chúng', 'tôi', 'đang', 'tiến', 'xa', 'hơn', 'mốc', '12', 'bay', 'giây', '.']]\n",
      "TOKENS PREDICTED: ['như', 'vậy', 'chúng', 'tôi', 'đang', 'tiến', 'xa', 'hơn', 'mốc', '12', 'bay', 'giây', '.']\n",
      "BLEU OF SENTENCE 20\n",
      "BLEU_1: 1.0\n",
      "BLEU_2: 1.0\n",
      "BLEU_3: 1.0\n",
      "BLEU_4: 1.0\n",
      "label_ids = tensor([  36,   71,   11,    7,   53,  271,  467,   59, 2299,  967,  437,  845,\n",
      "           5], device='cuda:0')\n",
      "pred_ids = tensor([  36,   71,   11,    7,   53,  271,  467,   59, 2299,  967,  437,  845,\n",
      "           5], device='cuda:0')\n",
      "recall = 1.0\n",
      "precision = 1.0\n",
      "f_05 = 1.0\n"
     ]
    },
    {
     "name": "stderr",
     "output_type": "stream",
     "text": [
      "Validation Bleu Epoch 04:  40%|████      | 40/100 [00:17<00:29,  2.06it/s]"
     ]
    },
    {
     "name": "stdout",
     "output_type": "stream",
     "text": [
      "\n",
      "    SOURCE: lhờ vậy các doanh nghiệp cũng dần thoát khỏi những nợ nần .\n",
      "    TARGET: nhờ vậy các doanh nghiệp cũng dần thoát khỏi những nợ nần .\n",
      " PREDICTED: nhờ vậy các doanh nghiệp cũng dần thoát khỏi những nợ lần .\n",
      "TOKENS TARGET: [['nhờ', 'vậy', 'các', 'doanh', 'nghiệp', 'cũng', 'dần', 'thoát', 'khỏi', 'những', 'nợ', 'nần', '.']]\n",
      "TOKENS PREDICTED: ['nhờ', 'vậy', 'các', 'doanh', 'nghiệp', 'cũng', 'dần', 'thoát', 'khỏi', 'những', 'nợ', 'lần', '.']\n",
      "BLEU OF SENTENCE 40\n",
      "BLEU_1: 0.9230769276618958\n",
      "BLEU_2: 0.8770580291748047\n",
      "BLEU_3: 0.856976330280304\n",
      "BLEU_4: 0.8423627018928528\n",
      "label_ids = tensor([ 767,   71,   21,  597,  347,   82,  710, 1086,  408,   12, 1758, 5266,\n",
      "           5], device='cuda:0')\n",
      "pred_ids = tensor([ 767,   71,   21,  597,  347,   82,  710, 1086,  408,   12, 1758,  208,\n",
      "           5], device='cuda:0')\n",
      "recall = 0.9230769872665405\n",
      "precision = 0.9230769872665405\n",
      "f_05 = 0.9230769872665405\n"
     ]
    },
    {
     "name": "stderr",
     "output_type": "stream",
     "text": [
      "Validation Bleu Epoch 04:  60%|██████    | 60/100 [00:25<00:16,  2.46it/s]"
     ]
    },
    {
     "name": "stdout",
     "output_type": "stream",
     "text": [
      "\n",
      "    SOURCE: tôi đem xe đạp đến tiệm-- tôi thích nó -- xe cu , và anh thợ \" chỉnh sửa \" lại vị trí bánh xe .\n",
      "    TARGET: tôi đem xe đạp đến tiệm-- tôi thích nó -- xe cũ , và anh thợ \" chỉnh sửa \" lại vị trí bánh xe .\n",
      " PREDICTED: tôi đem xe đạp đến tiệm -- tôi thích nó -- xe cũ , và anh thợ \" chỉnh sửa \" lại vị trí bánh xe .\n",
      "TOKENS TARGET: [['tôi', 'đem', 'xe', 'đạp', 'đến', 'tiệm', '--', 'tôi', 'thích', 'nó', '--', 'xe', 'cũ', ',', 'và', 'anh', 'thợ', '\"', 'chỉnh', 'sửa', '\"', 'lại', 'vị', 'trí', 'bánh', 'xe', '.']]\n",
      "TOKENS PREDICTED: ['tôi', 'đem', 'xe', 'đạp', 'đến', 'tiệm', '--', 'tôi', 'thích', 'nó', '--', 'xe', 'cũ', ',', 'và', 'anh', 'thợ', '\"', 'chỉnh', 'sửa', '\"', 'lại', 'vị', 'trí', 'bánh', 'xe', '.']\n",
      "BLEU OF SENTENCE 60\n",
      "BLEU_1: 1.0\n",
      "BLEU_2: 1.0\n",
      "BLEU_3: 1.0\n",
      "BLEU_4: 1.0\n",
      "label_ids = tensor([   7,  840,  285, 1198,   45, 2196,   75,    7,  196,   26,   75,  285,\n",
      "         975,    4,    6,   89, 1483,   28,  891,  979,   28,   55,  197,  360,\n",
      "         694,  285,    5], device='cuda:0')\n",
      "pred_ids = tensor([   7,  840,  285, 1198,   45, 2196,   75,    7,  196,   26,   75,  285,\n",
      "         975,    4,    6,   89, 1483,   28,  891,  979,   28,   55,  197,  360,\n",
      "         694,  285,    5], device='cuda:0')\n",
      "recall = 1.0\n",
      "precision = 1.0\n",
      "f_05 = 1.0\n"
     ]
    },
    {
     "name": "stderr",
     "output_type": "stream",
     "text": [
      "Validation Bleu Epoch 04:  80%|████████  | 80/100 [00:36<00:12,  1.63it/s]"
     ]
    },
    {
     "name": "stdout",
     "output_type": "stream",
     "text": [
      "\n",
      "    SOURCE: melinda , đây là khi nào và ở đâu vậy ? người đàn ông đẹp trai cạnh trị là ai vậy ?\n",
      "    TARGET: melinda , đây là khi nào và ở đâu vậy ? người đàn ông đẹp trai cạnh chị là ai vậy ?\n",
      " PREDICTED: melinda , đây là khi nào và ở đâu vậy ? người đàn ông đẹp trai cạnh trị là ai vậy ?\n",
      "TOKENS TARGET: [['melinda', ',', 'đây', 'là', 'khi', 'nào', 'và', 'ở', 'đâu', 'vậy', '?', 'người', 'đàn', 'ông', 'đẹp', 'trai', 'cạnh', 'chị', 'là', 'ai', 'vậy', '?']]\n",
      "TOKENS PREDICTED: ['melinda', ',', 'đây', 'là', 'khi', 'nào', 'và', 'ở', 'đâu', 'vậy', '?', 'người', 'đàn', 'ông', 'đẹp', 'trai', 'cạnh', 'trị', 'là', 'ai', 'vậy', '?']\n",
      "BLEU OF SENTENCE 80\n",
      "BLEU_1: 0.9545454382896423\n",
      "BLEU_2: 0.9293203949928284\n",
      "BLEU_3: 0.9020901918411255\n",
      "BLEU_4: 0.872512936592102\n",
      "label_ids = tensor([3529,    4,   43,    8,   41,   72,    6,   32,  378,   71,   47,   18,\n",
      "         448,   99,  460,  684,  644,  798,    8,  184,   71,   47],\n",
      "       device='cuda:0')\n",
      "pred_ids = tensor([3529,    4,   43,    8,   41,   72,    6,   32,  378,   71,   47,   18,\n",
      "         448,   99,  460,  684,  644,  255,    8,  184,   71,   47],\n",
      "       device='cuda:0')\n",
      "recall = 0.9545454978942871\n",
      "precision = 0.9545454978942871\n",
      "f_05 = 0.9545454978942871\n"
     ]
    },
    {
     "name": "stderr",
     "output_type": "stream",
     "text": [
      "Validation Bleu Epoch 04: 100%|██████████| 100/100 [00:45<00:00,  2.22it/s]"
     ]
    },
    {
     "name": "stdout",
     "output_type": "stream",
     "text": [
      "\n",
      "    SOURCE: vậy còn các công ty khai khoáng , khí ga ga và dầu mỏ thì sao ?\n",
      "    TARGET: vậy còn các công ty khai khoáng , khí ga và dầu mỏ thì sao ?\n",
      " PREDICTED: vậy còn các công ty khai khoáng , khí ga và dầu mỏ thì sao ?\n",
      "TOKENS TARGET: [['vậy', 'còn', 'các', 'công', 'ty', 'khai', 'khoáng', ',', 'khí', 'ga', 'và', 'dầu', 'mỏ', 'thì', 'sao', '?']]\n",
      "TOKENS PREDICTED: ['vậy', 'còn', 'các', 'công', 'ty', 'khai', 'khoáng', ',', 'khí', 'ga', 'và', 'dầu', 'mỏ', 'thì', 'sao', '?']\n",
      "BLEU OF SENTENCE 100\n",
      "BLEU_1: 1.0\n",
      "BLEU_2: 1.0\n",
      "BLEU_3: 1.0\n",
      "BLEU_4: 1.0\n",
      "label_ids = tensor([  71,  114,   21,   67,  505,  822, 1993,    4,  400, 1854,    6,  728,\n",
      "        1322,  115,  130,   47], device='cuda:0')\n",
      "pred_ids = tensor([  71,  114,   21,   67,  505,  822, 1993,    4,  400, 1854,    6,  728,\n",
      "        1322,  115,  130,   47], device='cuda:0')\n",
      "recall = 1.0\n",
      "precision = 1.0\n",
      "f_05 = 1.0\n"
     ]
    },
    {
     "name": "stderr",
     "output_type": "stream",
     "text": [
      "\n"
     ]
    },
    {
     "name": "stdout",
     "output_type": "stream",
     "text": [
      "recall = 0.7122302055358887\n",
      "precision = 0.7159664630889893\n",
      "accuracy = 0.7122302055358887\n",
      "f_05 = 0.7144903540611267\n"
     ]
    },
    {
     "name": "stderr",
     "output_type": "stream",
     "text": [
      "Validation Bleu Epoch 04:  20%|██        | 20/100 [00:10<00:55,  1.44it/s]"
     ]
    },
    {
     "name": "stdout",
     "output_type": "stream",
     "text": [
      "\n",
      "    SOURCE: cách chúng lam là khi có nhiều con trong khôn gian hẹph , mỗi con tìm kiếm kĩ càng bởi đã cô các con khác ngay bên đang tìm kiếm kiếm , nhưng khi chỉ có ĩt con trên diện rộng , chúng cần giãn để bao được rộng hơn .\n",
      "    TARGET: cách chúng làm là khi có nhiều con trong không gian hẹp , mỗi con tìm kiếm kĩ càng bởi đã có các con khác ngay bên đang tìm kiếm , nhưng khi chỉ có ít con trên diện rộng , chúng cần giãn ra để bao được rộng hơn .\n",
      " PREDICTED: cách chúng làm là khi có nhiều con trong không gian hẹp , mỗi con tìm kiếm kĩ càng bởi đã cô các con khác ngay bên đang tìm kiếm , nhưng khi chỉ có ít con trên diện rộng , chúng cần giãn để bao được rộng hơn .\n",
      "TOKENS TARGET: [['cách', 'chúng', 'làm', 'là', 'khi', 'có', 'nhiều', 'con', 'trong', 'không', 'gian', 'hẹp', ',', 'mỗi', 'con', 'tìm', 'kiếm', 'kĩ', 'càng', 'bởi', 'đã', 'có', 'các', 'con', 'khác', 'ngay', 'bên', 'đang', 'tìm', 'kiếm', ',', 'nhưng', 'khi', 'chỉ', 'có', 'ít', 'con', 'trên', 'diện', 'rộng', ',', 'chúng', 'cần', 'giãn', 'ra', 'để', 'bao', 'được', 'rộng', 'hơn', '.']]\n",
      "TOKENS PREDICTED: ['cách', 'chúng', 'làm', 'là', 'khi', 'có', 'nhiều', 'con', 'trong', 'không', 'gian', 'hẹp', ',', 'mỗi', 'con', 'tìm', 'kiếm', 'kĩ', 'càng', 'bởi', 'đã', 'cô', 'các', 'con', 'khác', 'ngay', 'bên', 'đang', 'tìm', 'kiếm', ',', 'nhưng', 'khi', 'chỉ', 'có', 'ít', 'con', 'trên', 'diện', 'rộng', ',', 'chúng', 'cần', 'giãn', 'để', 'bao', 'được', 'rộng', 'hơn', '.']\n",
      "BLEU OF SENTENCE 20\n",
      "BLEU_1: 0.9605947185364262\n",
      "BLEU_2: 0.9401735817709709\n",
      "BLEU_3: 0.9190076508342233\n",
      "BLEU_4: 0.8970329510150469\n",
      "label_ids = tensor([  57,   11,   31,    8,   41,   10,   60,   64,   19,   14,  190, 1808,\n",
      "           4,  233,   64,  155,  502,  871,  461,  102,   23,   10,   21,   64,\n",
      "          69,  280,  241,   53,  155,  502,    4,   44,   41,   70,   10,  342,\n",
      "          64,   68,  527,  531,    4,   11,  113, 1890,   30,   33,  213,   24,\n",
      "         531,   59,    5], device='cuda:0')\n",
      "pred_ids = tensor([  57,   11,   31,    8,   41,   10,   60,   64,   19,   14,  190, 1808,\n",
      "           4,  233,   64,  155,  502,  871,  461,  102,   23,  160,   21,   64,\n",
      "          69,  280,  241,   53,  155,  502,    4,   44,   41,   70,   10,  342,\n",
      "          64,   68,  527,  531,    4,   11,  113, 1890,   33,  213,   24,  531,\n",
      "          59,    5,    1], device='cuda:0')\n",
      "recall = 0.843137264251709\n",
      "precision = 0.8627451658248901\n",
      "f_05 = 0.8573975563049316\n"
     ]
    },
    {
     "name": "stderr",
     "output_type": "stream",
     "text": [
      "Validation Bleu Epoch 04:  40%|████      | 40/100 [00:20<00:48,  1.25it/s]"
     ]
    },
    {
     "name": "stdout",
     "output_type": "stream",
     "text": [
      "\n",
      "    SOURCE: vậy nên chung tôi bắt đầu cho đi , và bây giờ , sau 30 năm , vợ chồg tôi là những ngườĩ hoàn trả chúng tôi cho đi đi 90 phần trăm sống dựa trên 10 % .\n",
      "    TARGET: vậy nên chúng tôi bắt đầu cho đi , và bây giờ , sau 30 năm , vợ chồng tôi là những người hoàn trả chúng tôi cho đi 90 phần trăm và sống dựa trên 10 % .\n",
      " PREDICTED: vậy nên chúng tôi bắt đầu cho đi , và bây giờ , sau 30 năm , vợ chồng tôi là những người hoàn trả chúng tôi cho đi 90 phần trăm sống dựa trên 10 % .\n",
      "TOKENS TARGET: [['vậy', 'nên', 'chúng', 'tôi', 'bắt', 'đầu', 'cho', 'đi', ',', 'và', 'bây', 'giờ', ',', 'sau', '30', 'năm', ',', 'vợ', 'chồng', 'tôi', 'là', 'những', 'người', 'hoàn', 'trả', 'chúng', 'tôi', 'cho', 'đi', '90', 'phần', 'trăm', 'và', 'sống', 'dựa', 'trên', '10', '%', '.']]\n",
      "TOKENS PREDICTED: ['vậy', 'nên', 'chúng', 'tôi', 'bắt', 'đầu', 'cho', 'đi', ',', 'và', 'bây', 'giờ', ',', 'sau', '30', 'năm', ',', 'vợ', 'chồng', 'tôi', 'là', 'những', 'người', 'hoàn', 'trả', 'chúng', 'tôi', 'cho', 'đi', '90', 'phần', 'trăm', 'sống', 'dựa', 'trên', '10', '%', '.']\n",
      "BLEU OF SENTENCE 40\n",
      "BLEU_1: 0.9740274534203012\n",
      "BLEU_2: 0.9607747662732108\n",
      "BLEU_3: 0.9469570146241113\n",
      "BLEU_4: 0.932526069584462\n",
      "label_ids = tensor([  71,   87,   11,    7,  121,   62,   27,   79,    4,    6,  240,   96,\n",
      "           4,  110,  720,   74,    4, 1053, 1070,    7,    8,   12,   18,  230,\n",
      "         315,   11,    7,   27,   79, 1217,  144,  508,    6,  106,  681,   68,\n",
      "         456,  445,    5], device='cuda:0')\n",
      "pred_ids = tensor([  71,   87,   11,    7,  121,   62,   27,   79,    4,    6,  240,   96,\n",
      "           4,  110,  720,   74,    4, 1053, 1070,    7,    8,   12,   18,  230,\n",
      "         315,   11,    7,   27,   79, 1217,  144,  508,  106,  681,   68,  456,\n",
      "         445,    5,    1], device='cuda:0')\n",
      "recall = 0.8205128908157349\n",
      "precision = 0.8461538553237915\n",
      "f_05 = 0.8376069068908691\n"
     ]
    },
    {
     "name": "stderr",
     "output_type": "stream",
     "text": [
      "Validation Bleu Epoch 04:  60%|██████    | 60/100 [00:29<00:24,  1.63it/s]"
     ]
    },
    {
     "name": "stdout",
     "output_type": "stream",
     "text": [
      "\n",
      "    SOURCE: họ đã thiết kế một hệ thống bền vữg đến nỗi nó vẫn tồn tại với chúng ta cho đến hôm nay , tiếp tuc tạo ra những những con người tương tự nhau một bộ máy đã không còn tồn tạị .\n",
      "    TARGET: họ đã thiết kế một hệ thống bền vững đến nỗi nó vẫn tồn tại với chúng ta cho đến hôm nay , tiếp tục tạo ra những con người tương tự nhau cho một bộ máy đã không còn tồn tại .\n",
      " PREDICTED: họ đã thiết kế một hệ thống bền vững đến nỗi nó vẫn tồn tại với chúng ta cho đến hôm nay , tiếp tục tạo ra những con người tương tự nhau một bộ máy đã không còn tồn tại .\n",
      "TOKENS TARGET: [['họ', 'đã', 'thiết', 'kế', 'một', 'hệ', 'thống', 'bền', 'vững', 'đến', 'nỗi', 'nó', 'vẫn', 'tồn', 'tại', 'với', 'chúng', 'ta', 'cho', 'đến', 'hôm', 'nay', ',', 'tiếp', 'tục', 'tạo', 'ra', 'những', 'con', 'người', 'tương', 'tự', 'nhau', 'cho', 'một', 'bộ', 'máy', 'đã', 'không', 'còn', 'tồn', 'tại', '.']]\n",
      "TOKENS PREDICTED: ['họ', 'đã', 'thiết', 'kế', 'một', 'hệ', 'thống', 'bền', 'vững', 'đến', 'nỗi', 'nó', 'vẫn', 'tồn', 'tại', 'với', 'chúng', 'ta', 'cho', 'đến', 'hôm', 'nay', ',', 'tiếp', 'tục', 'tạo', 'ra', 'những', 'con', 'người', 'tương', 'tự', 'nhau', 'một', 'bộ', 'máy', 'đã', 'không', 'còn', 'tồn', 'tại', '.']\n",
      "BLEU OF SENTENCE 60\n",
      "BLEU_1: 0.9764716866522433\n",
      "BLEU_2: 0.964489997268898\n",
      "BLEU_3: 0.9520496159689376\n",
      "BLEU_4: 0.9391156214035523\n",
      "label_ids = tensor([  40,   23,  186,  264,    9,  161,  220, 1040,  982,   45,  736,   26,\n",
      "         238,  522,   92,   25,   11,   15,   27,   45,  424,  217,    4,  179,\n",
      "         465,   94,   30,   12,   64,   18,  226,  116,  157,   27,    9,  135,\n",
      "         175,   23,   14,  114,  522,   92,    5], device='cuda:0')\n",
      "pred_ids = tensor([  40,   23,  186,  264,    9,  161,  220, 1040,  982,   45,  736,   26,\n",
      "         238,  522,   92,   25,   11,   15,   27,   45,  424,  217,    4,  179,\n",
      "         465,   94,   30,   12,   64,   18,  226,  116,  157,    9,  135,  175,\n",
      "          23,   14,  114,  522,   92,    5,    1], device='cuda:0')\n",
      "recall = 0.7674418687820435\n",
      "precision = 0.7906976938247681\n",
      "f_05 = 0.7829457521438599\n"
     ]
    },
    {
     "name": "stderr",
     "output_type": "stream",
     "text": [
      "Validation Bleu Epoch 04:  80%|████████  | 80/100 [00:39<00:12,  1.60it/s]"
     ]
    },
    {
     "name": "stdout",
     "output_type": "stream",
     "text": [
      "\n",
      "    SOURCE: cô gái đó ở anh , và cô ấy sống -- đã sống để kể về bản thân -- về những gi mà cô ấy đã trải qua .\n",
      "    TARGET: cô gái đó ở anh , và cô ấy sống -- đã sống để kể về bản thân -- về những gì mà cô ấy đã trải qua .\n",
      " PREDICTED: cô gái đó ở anh , và cô ấy sống -- đã sống để kể về bản thân -- về những gì mà cô ấy đã trải qua .\n",
      "TOKENS TARGET: [['cô', 'gái', 'đó', 'ở', 'anh', ',', 'và', 'cô', 'ấy', 'sống', '--', 'đã', 'sống', 'để', 'kể', 'về', 'bản', 'thân', '--', 'về', 'những', 'gì', 'mà', 'cô', 'ấy', 'đã', 'trải', 'qua', '.']]\n",
      "TOKENS PREDICTED: ['cô', 'gái', 'đó', 'ở', 'anh', ',', 'và', 'cô', 'ấy', 'sống', '--', 'đã', 'sống', 'để', 'kể', 'về', 'bản', 'thân', '--', 'về', 'những', 'gì', 'mà', 'cô', 'ấy', 'đã', 'trải', 'qua', '.']\n",
      "BLEU OF SENTENCE 80\n",
      "BLEU_1: 1.0\n",
      "BLEU_2: 1.0\n",
      "BLEU_3: 1.0\n",
      "BLEU_4: 1.0\n",
      "label_ids = tensor([160, 583,  17,  32,  89,   4,   6, 160, 122, 106,  75,  23, 106,  33,\n",
      "        327,  37, 127, 332,  75,  37,  12,  54,  35, 160, 122,  23, 520, 142,\n",
      "          5], device='cuda:0')\n",
      "pred_ids = tensor([160, 583,  17,  32,  89,   4,   6, 160, 122, 106,  75,  23, 106,  33,\n",
      "        327,  37, 127, 332,  75,  37,  12,  54,  35, 160, 122,  23, 520, 142,\n",
      "          5], device='cuda:0')\n",
      "recall = 1.0\n",
      "precision = 1.0\n",
      "f_05 = 1.0\n"
     ]
    },
    {
     "name": "stderr",
     "output_type": "stream",
     "text": [
      "Validation Bleu Epoch 04: 100%|██████████| 100/100 [00:47<00:00,  2.10it/s]"
     ]
    },
    {
     "name": "stdout",
     "output_type": "stream",
     "text": [
      "\n",
      "    SOURCE: điểm mấự chốt ở đây là những quyền ưu tiên đó .\n",
      "    TARGET: điểm mấu chốt ở đây là những quyền ưu tiên đó .\n",
      " PREDICTED: điểm chốt ở đây là những quyền ưu tiên đó .\n",
      "TOKENS TARGET: [['điểm', 'mấu', 'chốt', 'ở', 'đây', 'là', 'những', 'quyền', 'ưu', 'tiên', 'đó', '.']]\n",
      "TOKENS PREDICTED: ['điểm', 'chốt', 'ở', 'đây', 'là', 'những', 'quyền', 'ưu', 'tiên', 'đó', '.']\n",
      "BLEU OF SENTENCE 100\n",
      "BLEU_1: 0.9131007162822624\n",
      "BLEU_2: 0.8662433659397117\n",
      "BLEU_3: 0.8476476346612649\n",
      "BLEU_4: 0.8352051988391603\n",
      "label_ids = tensor([ 222, 1750, 1310,   32,   43,    8,   12,  382, 1174,  211,   17,    5],\n",
      "       device='cuda:0')\n",
      "pred_ids = tensor([ 222, 1310,   32,   43,    8,   12,  382, 1174,  211,   17,    5,    1],\n",
      "       device='cuda:0')\n",
      "recall = 0.0833333358168602\n",
      "precision = 0.0833333358168602\n",
      "f_05 = 0.0833333358168602\n"
     ]
    },
    {
     "name": "stderr",
     "output_type": "stream",
     "text": [
      "\n"
     ]
    },
    {
     "name": "stdout",
     "output_type": "stream",
     "text": [
      "recall = 0.7208925485610962\n",
      "precision = 0.7282548546791077\n",
      "accuracy = 0.7208925485610962\n",
      "f_05 = 0.7258340120315552\n",
      "bleu_1_train: 0.9641280570753632 - bleu_1_val: 0.9617924024167146\n",
      "bleu_2_train: 0.9494756498372111 - bleu_2_val: 0.9436528462085111\n",
      "bleu_3_train: 0.9353630890592515 - bleu_3_val: 0.9261432827693872\n",
      "bleu_4_train: 0.9212623416259954 - bleu_4_val: 0.9089785463622636\n",
      "sum_recall_train = 0.7208925485610962\n",
      "sum_recall_val = 0.7122302055358887\n",
      "sum_precision_train = 0.7282548546791077\n",
      "sum_precision_val = 0.7159664630889893\n",
      "sum_f_05_train = 0.7258340120315552\n",
      "sum_f_05_val = 0.7144903540611267\n",
      "sum_accuracy_train = 0.7208925485610962\n",
      "sum_accuracy_val = 0.7122302055358887\n",
      "Mean train loss: 1.5447327561391508\n",
      "Mean validation loss: 1.5551863715455339\n",
      "Đã lưu cấu hình tại epoch 4\n"
     ]
    }
   ],
   "source": [
    "train.train_model(config)"
   ]
  },
  {
   "cell_type": "code",
   "execution_count": 4,
   "id": "97723bbb",
   "metadata": {
    "execution": {
     "iopub.execute_input": "2024-04-10T16:52:33.589327Z",
     "iopub.status.busy": "2024-04-10T16:52:33.588417Z",
     "iopub.status.idle": "2024-04-10T16:58:56.396199Z",
     "shell.execute_reply": "2024-04-10T16:58:56.395010Z"
    },
    "papermill": {
     "duration": 386.392725,
     "end_time": "2024-04-10T16:58:56.398954",
     "exception": false,
     "start_time": "2024-04-10T16:52:30.006229",
     "status": "completed"
    },
    "tags": []
   },
   "outputs": [
    {
     "name": "stdout",
     "output_type": "stream",
     "text": [
      "\n",
      "Đã load dataset thành công!\n",
      "\n"
     ]
    },
    {
     "name": "stderr",
     "output_type": "stream",
     "text": [
      "Validation Bleu Epoch 00:  20%|█▉        | 626/3131 [01:01<04:30,  9.26it/s]"
     ]
    },
    {
     "name": "stdout",
     "output_type": "stream",
     "text": [
      "\n",
      "    SOURCE: diện đẩu tư phải trên năm trăm ngàn\n",
      "    TARGET: diện đầu tư phải trên năm trăm ngàn\n",
      " PREDICTED: diện đầu tư phải trên năm trăm ngàn\n",
      "TOKENS TARGET: [['diện', 'đầu', 'tư', 'phải', 'trên', 'năm', 'trăm', 'ngàn']]\n",
      "TOKENS PREDICTED: ['diện', 'đầu', 'tư', 'phải', 'trên', 'năm', 'trăm', 'ngàn']\n",
      "BLEU OF SENTENCE 626\n",
      "BLEU_1: 1.0\n",
      "BLEU_2: 1.0\n",
      "BLEU_3: 1.0\n",
      "BLEU_4: 1.0\n",
      "label_ids = tensor([527,  62, 381,  46,  68,  74, 508, 868], device='cuda:0')\n",
      "pred_ids = tensor([527,  62, 381,  46,  68,  74, 508, 868], device='cuda:0')\n",
      "recall = 1.0\n",
      "precision = 1.0\n",
      "f_05 = 1.0\n"
     ]
    },
    {
     "name": "stderr",
     "output_type": "stream",
     "text": [
      "Validation Bleu Epoch 00:  40%|███▉      | 1252/3131 [02:15<05:01,  6.23it/s]"
     ]
    },
    {
     "name": "stdout",
     "output_type": "stream",
     "text": [
      "\n",
      "    SOURCE: lâm trể như dự kiến \n",
      "    TARGET: làm trễ như dự kiến \n",
      " PREDICTED: lâm trẻ như dự kiến\n",
      "TOKENS TARGET: [['làm', 'trễ', 'như', 'dự', 'kiến']]\n",
      "TOKENS PREDICTED: ['lâm', 'trẻ', 'như', 'dự', 'kiến']\n",
      "BLEU OF SENTENCE 1252\n",
      "BLEU_1: 0.6000000238418579\n",
      "BLEU_2: 0.547722578048706\n",
      "BLEU_3: 0.4641588628292084\n",
      "BLEU_4: 0.0\n",
      "label_ids = tensor([  31, 2397,   36,  323,  376], device='cuda:0')\n",
      "pred_ids = tensor([1486,  202,   36,  323,  376], device='cuda:0')\n",
      "recall = 0.6000000238418579\n",
      "precision = 0.6000000238418579\n",
      "f_05 = 0.6000000238418579\n"
     ]
    },
    {
     "name": "stderr",
     "output_type": "stream",
     "text": [
      "Validation Bleu Epoch 00:  60%|██████    | 1879/3131 [03:25<02:11,  9.54it/s]"
     ]
    },
    {
     "name": "stdout",
     "output_type": "stream",
     "text": [
      "\n",
      "    SOURCE: nhưng mà đặc biệt thì đặc thôi\n",
      "    TARGET: nhưng mà đặc biệt thì đặt thôi\n",
      " PREDICTED: nhưng mà đặc biệt thì đặc thôi\n",
      "TOKENS TARGET: [['nhưng', 'mà', 'đặc', 'biệt', 'thì', 'đặt', 'thôi']]\n",
      "TOKENS PREDICTED: ['nhưng', 'mà', 'đặc', 'biệt', 'thì', 'đặc', 'thôi']\n",
      "BLEU OF SENTENCE 1878\n",
      "BLEU_1: 0.8571428656578064\n",
      "BLEU_2: 0.7559289932250977\n",
      "BLEU_3: 0.6999028325080872\n",
      "BLEU_4: 0.643458902835846\n",
      "label_ids = tensor([ 44,  35, 379, 246, 115, 299, 496], device='cuda:0')\n",
      "pred_ids = tensor([ 44,  35, 379, 246, 115, 379, 496], device='cuda:0')\n",
      "recall = 0.8571429252624512\n",
      "precision = 0.7857143878936768\n",
      "f_05 = 0.7936508655548096\n"
     ]
    },
    {
     "name": "stderr",
     "output_type": "stream",
     "text": [
      "Validation Bleu Epoch 00:  80%|███████▉  | 2504/3131 [04:39<01:33,  6.68it/s]"
     ]
    },
    {
     "name": "stdout",
     "output_type": "stream",
     "text": [
      "\n",
      "    SOURCE: trả lương cho cảnh sát, thầy, cô giáo, lính chửa lửa.\n",
      "    TARGET: trả lương cho cảnh sát, thầy, cô giáo, lính chữa lửa.\n",
      " PREDICTED: trả lương cho cảnh sát , thầy , cô giáo , lính cỏ lửa .\n",
      "TOKENS TARGET: [['trả', 'lương', 'cho', 'cảnh', 'sát', ',', 'thầy', ',', 'cô', 'giáo', ',', 'lính', 'chữa', 'lửa', '.']]\n",
      "TOKENS PREDICTED: ['trả', 'lương', 'cho', 'cảnh', 'sát', ',', 'thầy', ',', 'cô', 'giáo', ',', 'lính', 'cỏ', 'lửa', '.']\n",
      "BLEU OF SENTENCE 2504\n",
      "BLEU_1: 0.9333333373069763\n",
      "BLEU_2: 0.8944271802902222\n",
      "BLEU_3: 0.8505807518959045\n",
      "BLEU_4: 0.8242367506027222\n",
      "label_ids = tensor([ 315, 1037,   27,  453,  472,    4, 1229,    4,  160,  259,    4, 1172,\n",
      "         749, 1059,    5], device='cuda:0')\n",
      "pred_ids = tensor([ 315, 1037,   27,  453,  472,    4, 1229,    4,  160,  259,    4, 1172,\n",
      "        1341, 1059,    5], device='cuda:0')\n",
      "recall = 0.9333333969116211\n",
      "precision = 0.9333333969116211\n",
      "f_05 = 0.9333333969116211\n"
     ]
    },
    {
     "name": "stderr",
     "output_type": "stream",
     "text": [
      "Validation Bleu Epoch 00: 100%|█████████▉| 3130/3131 [06:16<00:00,  4.48it/s]"
     ]
    },
    {
     "name": "stdout",
     "output_type": "stream",
     "text": [
      "\n",
      "    SOURCE: tuân úc theo tào tháo nghĩ tào tháo sẽ phục hưng nhà hán nhưng khi tào tháo sưng đế thì tuân úc đã nhầm,lên có kết cục như thế\n",
      "    TARGET: tuân úc theo tào tháo nghĩ tào tháo sẽ phục hưng nhà hán nhưng khi tào tháo xưng đế thì tuân úc đã nhầm, nên có kết cục như thế\n",
      " PREDICTED: tuân úc theo nhờ né tháo nghĩ nông tháo sẽ phục hưng nhà hán nhưng khi lưu tháo đế thì tuân úc đã nhầm , lên có kết cục như thế\n",
      "TOKENS TARGET: [['tuân', 'úc', 'theo', 'tào', 'tháo', 'nghĩ', 'tào', 'tháo', 'sẽ', 'phục', 'hưng', 'nhà', 'hán', 'nhưng', 'khi', 'tào', 'tháo', 'xưng', 'đế', 'thì', 'tuân', 'úc', 'đã', 'nhầm', ',', 'nên', 'có', 'kết', 'cục', 'như', 'thế']]\n",
      "TOKENS PREDICTED: ['tuân', 'úc', 'theo', 'nhờ', 'né', 'tháo', 'nghĩ', 'nông', 'tháo', 'sẽ', 'phục', 'hưng', 'nhà', 'hán', 'nhưng', 'khi', 'lưu', 'tháo', 'đế', 'thì', 'tuân', 'úc', 'đã', 'nhầm', ',', 'lên', 'có', 'kết', 'cục', 'như', 'thế']\n",
      "BLEU OF SENTENCE 3130\n",
      "BLEU_1: 0.8387096524238586\n",
      "BLEU_2: 0.7477565407752991\n",
      "BLEU_3: 0.6613091826438904\n",
      "BLEU_4: 0.5805799961090088\n",
      "label_ids = tensor([1873, 1607,  117, 5801, 1718,   78, 5801, 1718,   38,  519, 2224,   83,\n",
      "        2410,   44,   41, 5801, 1718, 6448, 1520,  115, 1873, 1607,   23, 1893,\n",
      "           4,   87,   10,  162, 1211,   36,   39], device='cuda:0')\n",
      "pred_ids = tensor([1873, 1607,  117,  767, 2948, 1718,   78,  823, 1718,   38,  519, 2224,\n",
      "          83, 2410,   44,   41,  729, 1718, 1520,  115, 1873, 1607,   23, 1893,\n",
      "           4,  136,   10,  162, 1211,   36,   39], device='cuda:0')\n",
      "recall = 0.4838709533214569\n",
      "precision = 0.4838709533214569\n",
      "f_05 = 0.4838709533214569\n"
     ]
    },
    {
     "name": "stderr",
     "output_type": "stream",
     "text": [
      "Validation Bleu Epoch 00: 100%|██████████| 3131/3131 [06:16<00:00,  8.32it/s]\n"
     ]
    },
    {
     "name": "stdout",
     "output_type": "stream",
     "text": [
      "recall = 0.6087011098861694\n",
      "precision = 0.6390011310577393\n",
      "accuracy = 0.6087011098861694\n",
      "f_05 = 0.6247589588165283\n",
      "\n",
      "{'Test_model_Bleu_1': {'Beam_size=1': 0.7919859015463657}, 'Test_model_Bleu_2': {'Beam_size=1': 0.7131817099862546}, 'Test_model_Bleu_3': {'Beam_size=1': 0.6436551708513948}, 'Test_model_Bleu_4': {'Beam_size=1': 0.5829340121058562}}\n",
      "sum_recall_val = 0.6087011098861694\n",
      "sum_precision_val = 0.6390011310577393\n",
      "sum_accuracy_val = 0.6087011098861694\n",
      "sum_f_05_val = 0.6247589588165283\n"
     ]
    }
   ],
   "source": [
    "test.test_model_with_beam_size(config, 1)\n",
    "# test.test_model_with_beam_size(config, 2)\n",
    "# test.test_model_with_beam_size(config, 3)\n",
    "# test.test_model_with_beam_size(config, 4)\n",
    "# test.test_model_with_beam_size(config, 5)\n",
    "# test.test_model_with_beam_size(config, 6)"
   ]
  },
  {
   "cell_type": "code",
   "execution_count": 5,
   "id": "badcb651",
   "metadata": {
    "execution": {
     "iopub.execute_input": "2024-04-10T16:59:03.713149Z",
     "iopub.status.busy": "2024-04-10T16:59:03.712730Z",
     "iopub.status.idle": "2024-04-10T16:59:04.778328Z",
     "shell.execute_reply": "2024-04-10T16:59:04.777036Z"
    },
    "papermill": {
     "duration": 4.729411,
     "end_time": "2024-04-10T16:59:04.781702",
     "exception": false,
     "start_time": "2024-04-10T16:59:00.052291",
     "status": "completed"
    },
    "tags": []
   },
   "outputs": [],
   "source": [
    "%rm -r /kaggle/working/vietnamese_spelling_correction"
   ]
  }
 ],
 "metadata": {
  "kaggle": {
   "accelerator": "gpu",
   "dataSources": [
    {
     "datasetId": 4767792,
     "sourceId": 8078491,
     "sourceType": "datasetVersion"
    }
   ],
   "dockerImageVersionId": 30674,
   "isGpuEnabled": true,
   "isInternetEnabled": true,
   "language": "python",
   "sourceType": "notebook"
  },
  "kernelspec": {
   "display_name": "Python 3",
   "language": "python",
   "name": "python3"
  },
  "language_info": {
   "codemirror_mode": {
    "name": "ipython",
    "version": 3
   },
   "file_extension": ".py",
   "mimetype": "text/x-python",
   "name": "python",
   "nbconvert_exporter": "python",
   "pygments_lexer": "ipython3",
   "version": "3.10.12"
  },
  "papermill": {
   "default_parameters": {},
   "duration": 4014.125403,
   "end_time": "2024-04-10T16:59:11.821184",
   "environment_variables": {},
   "exception": null,
   "input_path": "__notebook__.ipynb",
   "output_path": "__notebook__.ipynb",
   "parameters": {},
   "start_time": "2024-04-10T15:52:17.695781",
   "version": "2.5.0"
  }
 },
 "nbformat": 4,
 "nbformat_minor": 5
}
